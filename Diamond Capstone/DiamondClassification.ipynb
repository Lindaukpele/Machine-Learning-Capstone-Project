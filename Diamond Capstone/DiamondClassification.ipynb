{
 "cells": [
  {
   "cell_type": "code",
   "execution_count": 62,
   "id": "f154246a-b682-493a-b6b4-bb12ef8d07b5",
   "metadata": {},
   "outputs": [],
   "source": [
    "import pandas as pd\n",
    "import numpy as np\n",
    "import matplotlib.pyplot as plt\n",
    "import seaborn as sn\n",
    "from sklearn.preprocessing import LabelEncoder, OneHotEncoder \n",
    "from sklearn.model_selection import train_test_split\n",
    "from sklearn.preprocessing import StandardScaler\n",
    "from sklearn.linear_model import LogisticRegression \n",
    "from sklearn.neighbors import KNeighborsClassifier\n",
    "from sklearn.svm import SVC\n",
    "from sklearn.tree import DecisionTreeClassifier\n",
    "from sklearn.ensemble import RandomForestClassifier\n",
    "from sklearn.metrics import accuracy_score, confusion_matrix, classification_report, ConfusionMatrixDisplay \n",
    "\n",
    "import warnings\n",
    "warnings.filterwarnings(\"ignore\")"
   ]
  },
  {
   "cell_type": "code",
   "execution_count": 37,
   "id": "e8ef2893-618a-4b54-b939-1218451755c0",
   "metadata": {},
   "outputs": [],
   "source": [
    "df = pd.read_csv('diamonds.csv')"
   ]
  },
  {
   "cell_type": "code",
   "execution_count": 38,
   "id": "acb02d3f-ac82-46c5-96cc-f28ff164c746",
   "metadata": {},
   "outputs": [
    {
     "data": {
      "text/html": [
       "<div>\n",
       "<style scoped>\n",
       "    .dataframe tbody tr th:only-of-type {\n",
       "        vertical-align: middle;\n",
       "    }\n",
       "\n",
       "    .dataframe tbody tr th {\n",
       "        vertical-align: top;\n",
       "    }\n",
       "\n",
       "    .dataframe thead th {\n",
       "        text-align: right;\n",
       "    }\n",
       "</style>\n",
       "<table border=\"1\" class=\"dataframe\">\n",
       "  <thead>\n",
       "    <tr style=\"text-align: right;\">\n",
       "      <th></th>\n",
       "      <th>Unnamed: 0</th>\n",
       "      <th>carat</th>\n",
       "      <th>cut</th>\n",
       "      <th>color</th>\n",
       "      <th>clarity</th>\n",
       "      <th>depth</th>\n",
       "      <th>table</th>\n",
       "      <th>price</th>\n",
       "      <th>x</th>\n",
       "      <th>y</th>\n",
       "      <th>z</th>\n",
       "    </tr>\n",
       "  </thead>\n",
       "  <tbody>\n",
       "    <tr>\n",
       "      <th>0</th>\n",
       "      <td>1</td>\n",
       "      <td>0.23</td>\n",
       "      <td>Ideal</td>\n",
       "      <td>E</td>\n",
       "      <td>SI2</td>\n",
       "      <td>61.5</td>\n",
       "      <td>55.0</td>\n",
       "      <td>326</td>\n",
       "      <td>3.95</td>\n",
       "      <td>3.98</td>\n",
       "      <td>2.43</td>\n",
       "    </tr>\n",
       "    <tr>\n",
       "      <th>1</th>\n",
       "      <td>2</td>\n",
       "      <td>0.21</td>\n",
       "      <td>Premium</td>\n",
       "      <td>E</td>\n",
       "      <td>SI1</td>\n",
       "      <td>59.8</td>\n",
       "      <td>61.0</td>\n",
       "      <td>326</td>\n",
       "      <td>3.89</td>\n",
       "      <td>3.84</td>\n",
       "      <td>2.31</td>\n",
       "    </tr>\n",
       "    <tr>\n",
       "      <th>2</th>\n",
       "      <td>3</td>\n",
       "      <td>0.23</td>\n",
       "      <td>Good</td>\n",
       "      <td>E</td>\n",
       "      <td>VS1</td>\n",
       "      <td>56.9</td>\n",
       "      <td>65.0</td>\n",
       "      <td>327</td>\n",
       "      <td>4.05</td>\n",
       "      <td>4.07</td>\n",
       "      <td>2.31</td>\n",
       "    </tr>\n",
       "  </tbody>\n",
       "</table>\n",
       "</div>"
      ],
      "text/plain": [
       "   Unnamed: 0  carat      cut color clarity  depth  table  price     x     y  \\\n",
       "0           1   0.23    Ideal     E     SI2   61.5   55.0    326  3.95  3.98   \n",
       "1           2   0.21  Premium     E     SI1   59.8   61.0    326  3.89  3.84   \n",
       "2           3   0.23     Good     E     VS1   56.9   65.0    327  4.05  4.07   \n",
       "\n",
       "      z  \n",
       "0  2.43  \n",
       "1  2.31  \n",
       "2  2.31  "
      ]
     },
     "execution_count": 38,
     "metadata": {},
     "output_type": "execute_result"
    }
   ],
   "source": [
    "df.head(3)"
   ]
  },
  {
   "cell_type": "code",
   "execution_count": 39,
   "id": "ce27c905-44b5-46ef-9cc7-33d114f9da19",
   "metadata": {},
   "outputs": [],
   "source": [
    "df = df.drop('Unnamed: 0', axis=1)"
   ]
  },
  {
   "cell_type": "code",
   "execution_count": 40,
   "id": "8023d0d0-266b-40c7-9af6-b22bc402f274",
   "metadata": {},
   "outputs": [],
   "source": [
    "\n",
    "cut_map = {\n",
    "    'Fair': 0,\n",
    "    'Good': 1,\n",
    "    'Very Good': 2,\n",
    "    'Premium': 3,\n",
    "    'Ideal': 4\n",
    "}\n",
    "\n",
    "df['cut'] = df['cut'].map(cut_map)"
   ]
  },
  {
   "cell_type": "code",
   "execution_count": 41,
   "id": "bf10f7d1-e858-4545-aadc-3dc432daea82",
   "metadata": {},
   "outputs": [],
   "source": [
    "\n",
    "color_map = {\n",
    "    'D': 0,\n",
    "    'E': 1,\n",
    "    'F': 2,\n",
    "    'G': 3,\n",
    "    'H': 4,\n",
    "    'I': 5,\n",
    "    'J': 6\n",
    "}\n",
    "\n",
    "df['color'] = df['color'].map(color_map)"
   ]
  },
  {
   "cell_type": "code",
   "execution_count": 42,
   "id": "14a2918d-9c4c-4689-a094-9135d5ec98c3",
   "metadata": {},
   "outputs": [],
   "source": [
    "\n",
    "clarity_map = {\n",
    "    'I1': 0,\n",
    "    'SI2': 1,\n",
    "    'SI1': 2,\n",
    "    'VS2': 3,\n",
    "    'VS1': 4,\n",
    "    'VVS2': 5,\n",
    "    'VVS1': 6,\n",
    "    'IF': 7\n",
    "}\n",
    "\n",
    "df['clarity'] = df['clarity'].map(clarity_map)"
   ]
  },
  {
   "cell_type": "code",
   "execution_count": 44,
   "id": "6a9c808b-3d00-43c2-92bc-a7d48bcefc2a",
   "metadata": {},
   "outputs": [],
   "source": [
    "scaler = StandardScaler()\n",
    "df = df.copy()\n",
    "df[['carat', 'depth', 'table', 'price', 'x', 'y', 'z']] = scaler.fit_transform(df[['carat', 'depth', 'table', 'price', 'x', 'y', 'z']])"
   ]
  },
  {
   "cell_type": "code",
   "execution_count": 45,
   "id": "f0ea8f26-967c-4338-bb7b-d828f1beba33",
   "metadata": {},
   "outputs": [],
   "source": [
    "# Features\n",
    "X = df.drop('cut', axis=1)\n",
    "\n",
    "# Target\n",
    "y = df['cut']"
   ]
  },
  {
   "cell_type": "code",
   "execution_count": 46,
   "id": "c7a3769b-ada9-455c-a590-b554d9109fe5",
   "metadata": {},
   "outputs": [
    {
     "data": {
      "text/html": [
       "<div>\n",
       "<style scoped>\n",
       "    .dataframe tbody tr th:only-of-type {\n",
       "        vertical-align: middle;\n",
       "    }\n",
       "\n",
       "    .dataframe tbody tr th {\n",
       "        vertical-align: top;\n",
       "    }\n",
       "\n",
       "    .dataframe thead th {\n",
       "        text-align: right;\n",
       "    }\n",
       "</style>\n",
       "<table border=\"1\" class=\"dataframe\">\n",
       "  <thead>\n",
       "    <tr style=\"text-align: right;\">\n",
       "      <th></th>\n",
       "      <th>carat</th>\n",
       "      <th>color</th>\n",
       "      <th>clarity</th>\n",
       "      <th>depth</th>\n",
       "      <th>table</th>\n",
       "      <th>price</th>\n",
       "      <th>x</th>\n",
       "      <th>y</th>\n",
       "      <th>z</th>\n",
       "    </tr>\n",
       "  </thead>\n",
       "  <tbody>\n",
       "    <tr>\n",
       "      <th>0</th>\n",
       "      <td>-1.198168</td>\n",
       "      <td>1</td>\n",
       "      <td>1</td>\n",
       "      <td>-0.174092</td>\n",
       "      <td>-1.099672</td>\n",
       "      <td>-0.904095</td>\n",
       "      <td>-1.587837</td>\n",
       "      <td>-1.536196</td>\n",
       "      <td>-1.571129</td>\n",
       "    </tr>\n",
       "    <tr>\n",
       "      <th>1</th>\n",
       "      <td>-1.240361</td>\n",
       "      <td>1</td>\n",
       "      <td>2</td>\n",
       "      <td>-1.360738</td>\n",
       "      <td>1.585529</td>\n",
       "      <td>-0.904095</td>\n",
       "      <td>-1.641325</td>\n",
       "      <td>-1.658774</td>\n",
       "      <td>-1.741175</td>\n",
       "    </tr>\n",
       "    <tr>\n",
       "      <th>2</th>\n",
       "      <td>-1.198168</td>\n",
       "      <td>1</td>\n",
       "      <td>4</td>\n",
       "      <td>-3.385019</td>\n",
       "      <td>3.375663</td>\n",
       "      <td>-0.903844</td>\n",
       "      <td>-1.498691</td>\n",
       "      <td>-1.457395</td>\n",
       "      <td>-1.741175</td>\n",
       "    </tr>\n",
       "    <tr>\n",
       "      <th>3</th>\n",
       "      <td>-1.071587</td>\n",
       "      <td>5</td>\n",
       "      <td>3</td>\n",
       "      <td>0.454133</td>\n",
       "      <td>0.242928</td>\n",
       "      <td>-0.902090</td>\n",
       "      <td>-1.364971</td>\n",
       "      <td>-1.317305</td>\n",
       "      <td>-1.287720</td>\n",
       "    </tr>\n",
       "    <tr>\n",
       "      <th>4</th>\n",
       "      <td>-1.029394</td>\n",
       "      <td>6</td>\n",
       "      <td>1</td>\n",
       "      <td>1.082358</td>\n",
       "      <td>0.242928</td>\n",
       "      <td>-0.901839</td>\n",
       "      <td>-1.240167</td>\n",
       "      <td>-1.212238</td>\n",
       "      <td>-1.117674</td>\n",
       "    </tr>\n",
       "    <tr>\n",
       "      <th>...</th>\n",
       "      <td>...</td>\n",
       "      <td>...</td>\n",
       "      <td>...</td>\n",
       "      <td>...</td>\n",
       "      <td>...</td>\n",
       "      <td>...</td>\n",
       "      <td>...</td>\n",
       "      <td>...</td>\n",
       "      <td>...</td>\n",
       "    </tr>\n",
       "    <tr>\n",
       "      <th>53935</th>\n",
       "      <td>-0.164427</td>\n",
       "      <td>0</td>\n",
       "      <td>2</td>\n",
       "      <td>-0.662711</td>\n",
       "      <td>-0.204605</td>\n",
       "      <td>-0.294731</td>\n",
       "      <td>0.016798</td>\n",
       "      <td>0.022304</td>\n",
       "      <td>-0.054888</td>\n",
       "    </tr>\n",
       "    <tr>\n",
       "      <th>53936</th>\n",
       "      <td>-0.164427</td>\n",
       "      <td>0</td>\n",
       "      <td>2</td>\n",
       "      <td>0.942753</td>\n",
       "      <td>-1.099672</td>\n",
       "      <td>-0.294731</td>\n",
       "      <td>-0.036690</td>\n",
       "      <td>0.013548</td>\n",
       "      <td>0.100988</td>\n",
       "    </tr>\n",
       "    <tr>\n",
       "      <th>53937</th>\n",
       "      <td>-0.206621</td>\n",
       "      <td>0</td>\n",
       "      <td>2</td>\n",
       "      <td>0.733344</td>\n",
       "      <td>1.137995</td>\n",
       "      <td>-0.294731</td>\n",
       "      <td>-0.063434</td>\n",
       "      <td>-0.047741</td>\n",
       "      <td>0.030135</td>\n",
       "    </tr>\n",
       "    <tr>\n",
       "      <th>53938</th>\n",
       "      <td>0.130927</td>\n",
       "      <td>4</td>\n",
       "      <td>1</td>\n",
       "      <td>-0.523105</td>\n",
       "      <td>0.242928</td>\n",
       "      <td>-0.294731</td>\n",
       "      <td>0.373383</td>\n",
       "      <td>0.337506</td>\n",
       "      <td>0.285204</td>\n",
       "    </tr>\n",
       "    <tr>\n",
       "      <th>53939</th>\n",
       "      <td>-0.101137</td>\n",
       "      <td>0</td>\n",
       "      <td>1</td>\n",
       "      <td>0.314528</td>\n",
       "      <td>-1.099672</td>\n",
       "      <td>-0.294731</td>\n",
       "      <td>0.088115</td>\n",
       "      <td>0.118616</td>\n",
       "      <td>0.143499</td>\n",
       "    </tr>\n",
       "  </tbody>\n",
       "</table>\n",
       "<p>53940 rows × 9 columns</p>\n",
       "</div>"
      ],
      "text/plain": [
       "          carat  color  clarity     depth     table     price         x  \\\n",
       "0     -1.198168      1        1 -0.174092 -1.099672 -0.904095 -1.587837   \n",
       "1     -1.240361      1        2 -1.360738  1.585529 -0.904095 -1.641325   \n",
       "2     -1.198168      1        4 -3.385019  3.375663 -0.903844 -1.498691   \n",
       "3     -1.071587      5        3  0.454133  0.242928 -0.902090 -1.364971   \n",
       "4     -1.029394      6        1  1.082358  0.242928 -0.901839 -1.240167   \n",
       "...         ...    ...      ...       ...       ...       ...       ...   \n",
       "53935 -0.164427      0        2 -0.662711 -0.204605 -0.294731  0.016798   \n",
       "53936 -0.164427      0        2  0.942753 -1.099672 -0.294731 -0.036690   \n",
       "53937 -0.206621      0        2  0.733344  1.137995 -0.294731 -0.063434   \n",
       "53938  0.130927      4        1 -0.523105  0.242928 -0.294731  0.373383   \n",
       "53939 -0.101137      0        1  0.314528 -1.099672 -0.294731  0.088115   \n",
       "\n",
       "              y         z  \n",
       "0     -1.536196 -1.571129  \n",
       "1     -1.658774 -1.741175  \n",
       "2     -1.457395 -1.741175  \n",
       "3     -1.317305 -1.287720  \n",
       "4     -1.212238 -1.117674  \n",
       "...         ...       ...  \n",
       "53935  0.022304 -0.054888  \n",
       "53936  0.013548  0.100988  \n",
       "53937 -0.047741  0.030135  \n",
       "53938  0.337506  0.285204  \n",
       "53939  0.118616  0.143499  \n",
       "\n",
       "[53940 rows x 9 columns]"
      ]
     },
     "execution_count": 46,
     "metadata": {},
     "output_type": "execute_result"
    }
   ],
   "source": [
    "X"
   ]
  },
  {
   "cell_type": "code",
   "execution_count": 89,
   "id": "9fc1d4e9-8457-4778-9213-3e25cec94072",
   "metadata": {},
   "outputs": [],
   "source": [
    "X_train, X_test, y_train, y_test = train_test_split(X, \n",
    "                                                    y, \n",
    "                                                    test_size = 0.25,\n",
    "                                                    random_state = 0,\n",
    "                                                    shuffle = True)"
   ]
  },
  {
   "cell_type": "code",
   "execution_count": 90,
   "id": "3381bf50-3fc1-44f1-9091-84fe7b7cd98b",
   "metadata": {},
   "outputs": [],
   "source": [
    "model = LogisticRegression(solver='liblinear', multi_class='ovr', random_state=15)"
   ]
  },
  {
   "cell_type": "code",
   "execution_count": 91,
   "id": "97549738-d526-4025-815a-61b6e6783582",
   "metadata": {},
   "outputs": [],
   "source": [
    "predictionsLR = modelLR.predict(X_test)"
   ]
  },
  {
   "cell_type": "code",
   "execution_count": 92,
   "id": "960fd14a-4dfa-4fce-b6bd-0f2c336ebd99",
   "metadata": {},
   "outputs": [
    {
     "name": "stdout",
     "output_type": "stream",
     "text": [
      "0.6512421208750463\n"
     ]
    }
   ],
   "source": [
    "print(modelLR.score(X_test,y_test))"
   ]
  },
  {
   "cell_type": "code",
   "execution_count": 93,
   "id": "2214f6e0-dd40-45b7-9a6f-32b889bd6685",
   "metadata": {},
   "outputs": [
    {
     "data": {
      "text/plain": [
       "<sklearn.metrics._plot.confusion_matrix.ConfusionMatrixDisplay at 0x1e173bd7020>"
      ]
     },
     "execution_count": 93,
     "metadata": {},
     "output_type": "execute_result"
    },
    {
     "data": {
      "image/png": "[encoded data removed]",
      "text/plain": [
       "<Figure size 640x480 with 2 Axes>"
      ]
     },
     "metadata": {},
     "output_type": "display_data"
    }
   ],
   "source": [
    "cmlr= confusion_matrix(y_test, predictionsLR)\n",
    "ConfusionMatrixDisplay(cmlr).plot()"
   ]
  },
  {
   "cell_type": "code",
   "execution_count": 54,
   "id": "05b1dbf1-f5c7-4e06-a7a2-5fb52fdcfa2d",
   "metadata": {},
   "outputs": [
    {
     "name": "stdout",
     "output_type": "stream",
     "text": [
      "              precision    recall  f1-score   support\n",
      "\n",
      "           0       0.73      0.44      0.55       409\n",
      "           1       0.47      0.14      0.21      1219\n",
      "           2       0.50      0.42      0.46      3043\n",
      "           3       0.66      0.71      0.68      3489\n",
      "           4       0.71      0.88      0.79      5325\n",
      "\n",
      "    accuracy                           0.65     13485\n",
      "   macro avg       0.61      0.52      0.54     13485\n",
      "weighted avg       0.63      0.65      0.63     13485\n",
      "\n"
     ]
    }
   ],
   "source": [
    "print(classification_report(y_test, predictionsLR))"
   ]
  },
  {
   "cell_type": "code",
   "execution_count": 55,
   "id": "5a2c5091-b7d2-4978-bad6-347dbfa51dbf",
   "metadata": {},
   "outputs": [
    {
     "name": "stdout",
     "output_type": "stream",
     "text": [
      "Precision: 0.65\n",
      "Recall: 0.65\n",
      "F1-score: 0.65\n"
     ]
    }
   ],
   "source": [
    "from sklearn.metrics import precision_score, recall_score, f1_score\n",
    "precisionLR = precision_score(y_test, predictionsLR, average='micro')\n",
    "recallLR = recall_score(y_test, predictionsLR, average='micro')\n",
    "f1LR = f1_score(y_test, predictionsLR, average='micro')\n",
    "\n",
    "print(f'Precision: {precisionLR:.2f}')\n",
    "print(f'Recall: {recallLR:.2f}')\n",
    "print(f'F1-score: {f1LR:.2f}')"
   ]
  },
  {
   "cell_type": "markdown",
   "id": "afe6143b-3269-4c7a-963a-6aa4c494ed9a",
   "metadata": {},
   "source": [
    "### KNN Classifier"
   ]
  },
  {
   "cell_type": "code",
   "execution_count": 59,
   "id": "dea40bfd-0e68-4019-9a40-5d39cb92b1f1",
   "metadata": {},
   "outputs": [],
   "source": [
    "err_rate = []\n",
    "accuracy = []\n",
    "\n",
    "# Calculate multiple models:\n",
    "for i in range(1,101):\n",
    "    knn = KNeighborsClassifier(n_neighbors = i)\n",
    "    knn.fit(X_train, y_train)\n",
    "    predictionsKNN = knn.predict(X_test)\n",
    "\n",
    "    # and Track the results!\n",
    "    err_rate.append(np.mean(predictionsKNN != y_test)) # another way to calculate the error rate\n",
    "    accuracy.append(knn.score(X_test, y_test))"
   ]
  },
  {
   "cell_type": "code",
   "execution_count": 63,
   "id": "99c2b0e2-d629-425d-9cc4-8b2a848e95ec",
   "metadata": {},
   "outputs": [
    {
     "name": "stdout",
     "output_type": "stream",
     "text": [
      "Best k: 24 with accuracy: 0.67\n"
     ]
    }
   ],
   "source": [
    "best_k = accuracy.index(max(accuracy)) + 1  # +1 because index starts at 0\n",
    "print(f\"Best k: {best_k} with accuracy: {max(accuracy):.2f}\")"
   ]
  },
  {
   "cell_type": "code",
   "execution_count": 64,
   "id": "0888c658-f32d-46c6-bc5e-7a120777f214",
   "metadata": {},
   "outputs": [],
   "source": [
    "knn_best = KNeighborsClassifier(n_neighbors=best_k)\n",
    "knn_best.fit(X_train, y_train)\n",
    "predictions_best = knn_best.predict(X_test)"
   ]
  },
  {
   "cell_type": "code",
   "execution_count": 73,
   "id": "fe3cafc0-defb-41d8-a277-42c83595d0d5",
   "metadata": {},
   "outputs": [
    {
     "name": "stdout",
     "output_type": "stream",
     "text": [
      "0.6668891360771227\n"
     ]
    }
   ],
   "source": [
    "print(knn_best.score(X_test,y_test))"
   ]
  },
  {
   "cell_type": "code",
   "execution_count": 65,
   "id": "aa6d8c67-c293-4579-b53f-6b26cee582f5",
   "metadata": {},
   "outputs": [
    {
     "data": {
      "text/plain": [
       "<sklearn.metrics._plot.confusion_matrix.ConfusionMatrixDisplay at 0x1e15985fcb0>"
      ]
     },
     "execution_count": 65,
     "metadata": {},
     "output_type": "execute_result"
    },
    {
     "data": {
      "image/png": "[encoded data removed]",
      "text/plain": [
       "<Figure size 640x480 with 2 Axes>"
      ]
     },
     "metadata": {},
     "output_type": "display_data"
    }
   ],
   "source": [
    "cm = confusion_matrix(y_test, predictions_best)\n",
    "ConfusionMatrixDisplay(cm).plot()"
   ]
  },
  {
   "cell_type": "code",
   "execution_count": 69,
   "id": "47503d9a-5111-4621-8f94-2c2f9a99eefd",
   "metadata": {},
   "outputs": [
    {
     "name": "stdout",
     "output_type": "stream",
     "text": [
      "              precision    recall  f1-score   support\n",
      "\n",
      "           0       0.94      0.55      0.69       409\n",
      "           1       0.60      0.40      0.48      1219\n",
      "           2       0.46      0.26      0.33      3043\n",
      "           3       0.61      0.75      0.67      3489\n",
      "           4       0.76      0.92      0.83      5325\n",
      "\n",
      "    accuracy                           0.67     13485\n",
      "   macro avg       0.67      0.57      0.60     13485\n",
      "weighted avg       0.64      0.67      0.64     13485\n",
      "\n"
     ]
    }
   ],
   "source": [
    "print(classification_report(y_test, predictions_best))"
   ]
  },
  {
   "cell_type": "code",
   "execution_count": 70,
   "id": "1f0e3487-78ea-4258-a80d-e615f3cc7104",
   "metadata": {},
   "outputs": [
    {
     "name": "stdout",
     "output_type": "stream",
     "text": [
      "Precision: 0.64\n",
      "Recall: 0.67\n",
      "F1 Score: 0.64\n"
     ]
    }
   ],
   "source": [
    "precisionKNN = precision_score(y_test, predictions_best, average='weighted')\n",
    "recallKNN = recall_score(y_test, predictions_best, average='weighted')\n",
    "f1KNN = f1_score(y_test, predictions_best, average='weighted')\n",
    "\n",
    "print(f\"Precision: {precisionKNN:.2f}\")\n",
    "print(f\"Recall: {recallKNN:.2f}\")\n",
    "print(f\"F1 Score: {f1KNN:.2f}\")"
   ]
  },
  {
   "cell_type": "code",
   "execution_count": 75,
   "id": "974d8372-7fa9-4500-84aa-667f5cc9cce5",
   "metadata": {},
   "outputs": [
    {
     "data": {
      "image/png": "[encoded data removed]",
      "text/plain": [
       "<Figure size 1000x400 with 1 Axes>"
      ]
     },
     "metadata": {},
     "output_type": "display_data"
    }
   ],
   "source": [
    "plt.figure(figsize=(10, 4))\n",
    "plt.plot(range(1, 101), accuracy, label='Accuracy')\n",
    "plt.plot(range(1, 101), err_rate, label='Error Rate')\n",
    "plt.xlabel('K')\n",
    "plt.ylabel('Score')\n",
    "plt.title('KNN Accuracy vs Error Rate')\n",
    "plt.legend()\n",
    "plt.grid()\n",
    "plt.show()"
   ]
  },
  {
   "cell_type": "markdown",
   "id": "9664c085-b3ea-413e-a562-27fdaebf9ea5",
   "metadata": {},
   "source": [
    "### SVC Model "
   ]
  },
  {
   "cell_type": "code",
   "execution_count": 78,
   "id": "4999eacf-4c8a-4228-85b0-488e3ab287ea",
   "metadata": {},
   "outputs": [
    {
     "name": "stdout",
     "output_type": "stream",
     "text": [
      "\n",
      " Best SVC Model:\n",
      "Kernel: rbf, C: 10, Gamma: scale\n",
      "Best Accuracy: 0.7628\n"
     ]
    }
   ],
   "source": [
    "best_score = 0\n",
    "best_model = None\n",
    "best_params = {}\n",
    "\n",
    "for kernel in ['linear', 'rbf', 'poly']:\n",
    "    for C in [0.1, 1, 10]:\n",
    "        gamma = 'scale' if kernel != 'linear' else 'auto'\n",
    "        modelsvc = SVC(kernel=kernel, C=C, gamma=gamma, random_state=15)\n",
    "        modelsvc.fit(X_train, y_train)\n",
    "        y_predsvc = modelsvc.predict(X_test)\n",
    "        acc = accuracy_score(y_test, y_predsvc)\n",
    "    \n",
    "        # Track best model\n",
    "        if acc > best_score:\n",
    "            best_score = acc\n",
    "            best_model = modelsvc\n",
    "            best_params = {'kernel': kernel, 'C': C, 'gamma': gamma}\n",
    "\n",
    "print(\"\\n Best SVC Model:\")\n",
    "print(f\"Kernel: {best_params['kernel']}, C: {best_params['C']}, Gamma: {best_params['gamma']}\")\n",
    "print(f\"Best Accuracy: {best_score:.4f}\")"
   ]
  },
  {
   "cell_type": "code",
   "execution_count": 79,
   "id": "c2a67111-3839-4ea8-bc43-c40fd8eb0b6b",
   "metadata": {},
   "outputs": [],
   "source": [
    "svc_best = SVC(kernel='rbf', C=10, gamma='scale', random_state=15)\n",
    "svc_best.fit(X_train, y_train)\n",
    "predictions_bestsvc = svc_best.predict(X_test)"
   ]
  },
  {
   "cell_type": "code",
   "execution_count": 80,
   "id": "4f0a3d2c-95f9-47da-bd62-c4d497d80b38",
   "metadata": {},
   "outputs": [
    {
     "data": {
      "text/plain": [
       "<sklearn.metrics._plot.confusion_matrix.ConfusionMatrixDisplay at 0x1e157cdb620>"
      ]
     },
     "execution_count": 80,
     "metadata": {},
     "output_type": "execute_result"
    },
    {
     "data": {
      "image/png": "[encoded data removed]",
      "text/plain": [
       "<Figure size 640x480 with 2 Axes>"
      ]
     },
     "metadata": {},
     "output_type": "display_data"
    }
   ],
   "source": [
    "cmsvc = confusion_matrix(y_test, predictions_bestsvc)\n",
    "ConfusionMatrixDisplay(cmsvc).plot()"
   ]
  },
  {
   "cell_type": "code",
   "execution_count": 81,
   "id": "22d09a2c-4dfd-4be9-8345-9cacd421b59a",
   "metadata": {},
   "outputs": [
    {
     "name": "stdout",
     "output_type": "stream",
     "text": [
      "              precision    recall  f1-score   support\n",
      "\n",
      "           0       0.92      0.76      0.83       409\n",
      "           1       0.68      0.60      0.64      1219\n",
      "           2       0.61      0.56      0.58      3043\n",
      "           3       0.82      0.77      0.80      3489\n",
      "           4       0.81      0.91      0.86      5325\n",
      "\n",
      "    accuracy                           0.76     13485\n",
      "   macro avg       0.77      0.72      0.74     13485\n",
      "weighted avg       0.76      0.76      0.76     13485\n",
      "\n"
     ]
    }
   ],
   "source": [
    "print(classification_report(y_test, predictions_bestsvc))"
   ]
  },
  {
   "cell_type": "code",
   "execution_count": 82,
   "id": "278b93b1-952f-4fff-b5fa-f96f963da4c4",
   "metadata": {},
   "outputs": [
    {
     "name": "stdout",
     "output_type": "stream",
     "text": [
      "Precision: 0.76\n",
      "Recall: 0.76\n",
      "F1 Score: 0.76\n"
     ]
    }
   ],
   "source": [
    "precisionSVC = precision_score(y_test, predictions_bestsvc, average='weighted')\n",
    "recallSVC = recall_score(y_test, predictions_bestsvc, average='weighted')\n",
    "f1SVC = f1_score(y_test, predictions_bestsvc, average='weighted')\n",
    "\n",
    "print(f\"Precision: {precisionSVC:.2f}\")\n",
    "print(f\"Recall: {recallSVC:.2f}\")\n",
    "print(f\"F1 Score: {f1SVC:.2f}\")"
   ]
  },
  {
   "cell_type": "markdown",
   "id": "331b398b-1e2b-4b2c-b9d6-0d48ec0fa0d2",
   "metadata": {},
   "source": [
    "### Decision Tree Classifier"
   ]
  },
  {
   "cell_type": "code",
   "execution_count": 83,
   "id": "dceee79b-2061-4f62-b656-5bb8e58d47f3",
   "metadata": {},
   "outputs": [
    {
     "name": "stdout",
     "output_type": "stream",
     "text": [
      "Decision Tree Accuracy: 0.7636633296255099\n",
      "Decision Tree Matrix:\n",
      " [[ 356   34    9    8    2]\n",
      " [  38  806  279   77   19]\n",
      " [   4  183 1647  533  676]\n",
      " [   7   39  377 2678  388]\n",
      " [   3   11  297  203 4811]]\n"
     ]
    }
   ],
   "source": [
    "from sklearn.tree import DecisionTreeClassifier\n",
    "modelTree = DecisionTreeClassifier(criterion = 'entropy', max_leaf_nodes = 1000)\n",
    "modelTree.fit(X_train, y_train)\n",
    "y_predT = modelTree.predict(X_test)\n",
    "accuracyT = accuracy_score(y_test, y_predT)\n",
    "con_matrixT = confusion_matrix(y_test, y_predT)\n",
    "\n",
    "print('Decision Tree Accuracy:', accuracyT) \n",
    "print('Decision Tree Matrix:\\n', con_matrixT) "
   ]
  },
  {
   "cell_type": "code",
   "execution_count": 124,
   "id": "7e9740b0-3790-4778-ae31-23913222ff5e",
   "metadata": {},
   "outputs": [
    {
     "name": "stdout",
     "output_type": "stream",
     "text": [
      "Accuracy: 0.7637\n",
      "Precision: 0.7673\n",
      "Recall: 0.7488\n",
      "F1-score: 0.7563\n"
     ]
    }
   ],
   "source": [
    "precisionT = precision_score(y_test, y_predT, average='macro') \n",
    "recallT = recall_score(y_test, y_predT, average='macro')\n",
    "f1T = f1_score(y_test, y_predT, average='macro')\n",
    "\n",
    "print(f\"Accuracy: {accuracyT:.4f}\")\n",
    "print(f\"Precision: {precisionT:.4f}\")\n",
    "print(f\"Recall: {recallT:.4f}\")\n",
    "print(f\"F1-score: {f1T:.4f}\")"
   ]
  },
  {
   "cell_type": "markdown",
   "id": "08550197-ba5d-4e78-b853-38ba883f4d7a",
   "metadata": {},
   "source": [
    "### Random Forest Classifier"
   ]
  },
  {
   "cell_type": "code",
   "execution_count": 85,
   "id": "65b3a932-9b79-4374-99c8-975b68ae44ad",
   "metadata": {},
   "outputs": [
    {
     "name": "stdout",
     "output_type": "stream",
     "text": [
      "Random Forest Accuracy: 0.7632183908045977\n",
      "Random Forest Matrix:\n",
      " [[ 359   33    6    9    2]\n",
      " [  49  849  244   57   20]\n",
      " [   4  245 1655  533  606]\n",
      " [   2   27  382 2728  350]\n",
      " [   1   14  364  245 4701]]\n"
     ]
    }
   ],
   "source": [
    "modelRF = RandomForestClassifier(n_estimators = 10, bootstrap = True)\n",
    "modelRF.fit(X_train, y_train)\n",
    "y_predRF = modelRF.predict(X_test)\n",
    "accuracyRF = accuracy_score(y_test, y_predRF)\n",
    "con_matrixRF= confusion_matrix(y_test, y_predRF)\n",
    "\n",
    "print('Random Forest Accuracy:', accuracyRF) \n",
    "print('Random Forest Matrix:\\n', con_matrixRF) "
   ]
  },
  {
   "cell_type": "code",
   "execution_count": 125,
   "id": "1bd1da7a-82e6-431c-9f93-e8c2b33e9631",
   "metadata": {},
   "outputs": [
    {
     "name": "stdout",
     "output_type": "stream",
     "text": [
      "Accuracy: 0.7632\n",
      "Precision: 0.7573\n",
      "Recall: 0.7632\n",
      "F1 Score: 0.7592\n"
     ]
    }
   ],
   "source": [
    "precisionRF = precision_score(y_test, y_predRF, average='weighted')  # can also use 'macro' or 'micro'\n",
    "recallRF = recall_score(y_test, y_predRF, average='weighted')\n",
    "f1RF = f1_score(y_test, y_predRF, average='weighted')\n",
    "\n",
    "# Print all metrics\n",
    "print(f\"Accuracy: {accuracyRF:.4f}\")\n",
    "print(f\"Precision: {precisionRF:.4f}\")\n",
    "print(f\"Recall: {recallRF:.4f}\")\n",
    "print(f\"F1 Score: {f1RF:.4f}\")"
   ]
  },
  {
   "cell_type": "markdown",
   "id": "c7887444-9b4b-4a78-8621-e6835d6145fd",
   "metadata": {},
   "source": [
    "### ANN"
   ]
  },
  {
   "cell_type": "code",
   "execution_count": 110,
   "id": "6f53a5d3-7520-4e82-9fa9-6b44dbb72f37",
   "metadata": {
    "scrolled": true
   },
   "outputs": [
    {
     "name": "stdout",
     "output_type": "stream",
     "text": [
      "Epoch 1/100\n",
      "\u001b[1m1264/1265\u001b[0m \u001b[32m━━━━━━━━━━━━━━━━━━━\u001b[0m\u001b[37m━\u001b[0m \u001b[1m0s\u001b[0m 4ms/step - accuracy: 0.4956 - loss: 1.2471"
     ]
    },
    {
     "name": "stderr",
     "output_type": "stream",
     "text": [
      "WARNING:absl:You are saving your model as an HDF5 file via `model.save()` or `keras.saving.save_model(model)`. This file format is considered legacy. We recommend using instead the native Keras format, e.g. `model.save('my_model.keras')` or `keras.saving.save_model(model, 'my_model.keras')`. \n"
     ]
    },
    {
     "name": "stdout",
     "output_type": "stream",
     "text": [
      "\u001b[1m1265/1265\u001b[0m \u001b[32m━━━━━━━━━━━━━━━━━━━━\u001b[0m\u001b[37m\u001b[0m \u001b[1m11s\u001b[0m 6ms/step - accuracy: 0.4957 - loss: 1.2469 - val_accuracy: 0.6061 - val_loss: 1.0228\n",
      "Epoch 2/100\n",
      "\u001b[1m1254/1265\u001b[0m \u001b[32m━━━━━━━━━━━━━━━━━━━\u001b[0m\u001b[37m━\u001b[0m \u001b[1m0s\u001b[0m 5ms/step - accuracy: 0.6182 - loss: 0.9967"
     ]
    },
    {
     "name": "stderr",
     "output_type": "stream",
     "text": [
      "WARNING:absl:You are saving your model as an HDF5 file via `model.save()` or `keras.saving.save_model(model)`. This file format is considered legacy. We recommend using instead the native Keras format, e.g. `model.save('my_model.keras')` or `keras.saving.save_model(model, 'my_model.keras')`. \n"
     ]
    },
    {
     "name": "stdout",
     "output_type": "stream",
     "text": [
      "\u001b[1m1265/1265\u001b[0m \u001b[32m━━━━━━━━━━━━━━━━━━━━\u001b[0m\u001b[37m\u001b[0m \u001b[1m8s\u001b[0m 6ms/step - accuracy: 0.6183 - loss: 0.9963 - val_accuracy: 0.6801 - val_loss: 0.8638\n",
      "Epoch 3/100\n",
      "\u001b[1m1258/1265\u001b[0m \u001b[32m━━━━━━━━━━━━━━━━━━━\u001b[0m\u001b[37m━\u001b[0m \u001b[1m0s\u001b[0m 4ms/step - accuracy: 0.6707 - loss: 0.8692"
     ]
    },
    {
     "name": "stderr",
     "output_type": "stream",
     "text": [
      "WARNING:absl:You are saving your model as an HDF5 file via `model.save()` or `keras.saving.save_model(model)`. This file format is considered legacy. We recommend using instead the native Keras format, e.g. `model.save('my_model.keras')` or `keras.saving.save_model(model, 'my_model.keras')`. \n"
     ]
    },
    {
     "name": "stdout",
     "output_type": "stream",
     "text": [
      "\u001b[1m1265/1265\u001b[0m \u001b[32m━━━━━━━━━━━━━━━━━━━━\u001b[0m\u001b[37m\u001b[0m \u001b[1m7s\u001b[0m 6ms/step - accuracy: 0.6708 - loss: 0.8691 - val_accuracy: 0.6988 - val_loss: 0.8051\n",
      "Epoch 4/100\n",
      "\u001b[1m1258/1265\u001b[0m \u001b[32m━━━━━━━━━━━━━━━━━━━\u001b[0m\u001b[37m━\u001b[0m \u001b[1m0s\u001b[0m 5ms/step - accuracy: 0.6913 - loss: 0.8250"
     ]
    },
    {
     "name": "stderr",
     "output_type": "stream",
     "text": [
      "WARNING:absl:You are saving your model as an HDF5 file via `model.save()` or `keras.saving.save_model(model)`. This file format is considered legacy. We recommend using instead the native Keras format, e.g. `model.save('my_model.keras')` or `keras.saving.save_model(model, 'my_model.keras')`. \n"
     ]
    },
    {
     "name": "stdout",
     "output_type": "stream",
     "text": [
      "\u001b[1m1265/1265\u001b[0m \u001b[32m━━━━━━━━━━━━━━━━━━━━\u001b[0m\u001b[37m\u001b[0m \u001b[1m9s\u001b[0m 7ms/step - accuracy: 0.6913 - loss: 0.8250 - val_accuracy: 0.7059 - val_loss: 0.7841\n",
      "Epoch 5/100\n",
      "\u001b[1m1260/1265\u001b[0m \u001b[32m━━━━━━━━━━━━━━━━━━━\u001b[0m\u001b[37m━\u001b[0m \u001b[1m0s\u001b[0m 4ms/step - accuracy: 0.6947 - loss: 0.8039"
     ]
    },
    {
     "name": "stderr",
     "output_type": "stream",
     "text": [
      "WARNING:absl:You are saving your model as an HDF5 file via `model.save()` or `keras.saving.save_model(model)`. This file format is considered legacy. We recommend using instead the native Keras format, e.g. `model.save('my_model.keras')` or `keras.saving.save_model(model, 'my_model.keras')`. \n"
     ]
    },
    {
     "name": "stdout",
     "output_type": "stream",
     "text": [
      "\u001b[1m1265/1265\u001b[0m \u001b[32m━━━━━━━━━━━━━━━━━━━━\u001b[0m\u001b[37m\u001b[0m \u001b[1m8s\u001b[0m 6ms/step - accuracy: 0.6947 - loss: 0.8039 - val_accuracy: 0.7086 - val_loss: 0.7742\n",
      "Epoch 6/100\n",
      "\u001b[1m1256/1265\u001b[0m \u001b[32m━━━━━━━━━━━━━━━━━━━\u001b[0m\u001b[37m━\u001b[0m \u001b[1m0s\u001b[0m 5ms/step - accuracy: 0.6922 - loss: 0.8094"
     ]
    },
    {
     "name": "stderr",
     "output_type": "stream",
     "text": [
      "WARNING:absl:You are saving your model as an HDF5 file via `model.save()` or `keras.saving.save_model(model)`. This file format is considered legacy. We recommend using instead the native Keras format, e.g. `model.save('my_model.keras')` or `keras.saving.save_model(model, 'my_model.keras')`. \n"
     ]
    },
    {
     "name": "stdout",
     "output_type": "stream",
     "text": [
      "\u001b[1m1265/1265\u001b[0m \u001b[32m━━━━━━━━━━━━━━━━━━━━\u001b[0m\u001b[37m\u001b[0m \u001b[1m10s\u001b[0m 6ms/step - accuracy: 0.6922 - loss: 0.8094 - val_accuracy: 0.7092 - val_loss: 0.7692\n",
      "Epoch 7/100\n",
      "\u001b[1m1265/1265\u001b[0m \u001b[32m━━━━━━━━━━━━━━━━━━━━\u001b[0m\u001b[37m\u001b[0m \u001b[1m8s\u001b[0m 6ms/step - accuracy: 0.7001 - loss: 0.7928 - val_accuracy: 0.7082 - val_loss: 0.7675\n",
      "Epoch 8/100\n",
      "\u001b[1m1258/1265\u001b[0m \u001b[32m━━━━━━━━━━━━━━━━━━━\u001b[0m\u001b[37m━\u001b[0m \u001b[1m0s\u001b[0m 5ms/step - accuracy: 0.6982 - loss: 0.7936"
     ]
    },
    {
     "name": "stderr",
     "output_type": "stream",
     "text": [
      "WARNING:absl:You are saving your model as an HDF5 file via `model.save()` or `keras.saving.save_model(model)`. This file format is considered legacy. We recommend using instead the native Keras format, e.g. `model.save('my_model.keras')` or `keras.saving.save_model(model, 'my_model.keras')`. \n"
     ]
    },
    {
     "name": "stdout",
     "output_type": "stream",
     "text": [
      "\u001b[1m1265/1265\u001b[0m \u001b[32m━━━━━━━━━━━━━━━━━━━━\u001b[0m\u001b[37m\u001b[0m \u001b[1m8s\u001b[0m 6ms/step - accuracy: 0.6982 - loss: 0.7936 - val_accuracy: 0.7110 - val_loss: 0.7595\n",
      "Epoch 9/100\n",
      "\u001b[1m1258/1265\u001b[0m \u001b[32m━━━━━━━━━━━━━━━━━━━\u001b[0m\u001b[37m━\u001b[0m \u001b[1m0s\u001b[0m 4ms/step - accuracy: 0.6987 - loss: 0.7837"
     ]
    },
    {
     "name": "stderr",
     "output_type": "stream",
     "text": [
      "WARNING:absl:You are saving your model as an HDF5 file via `model.save()` or `keras.saving.save_model(model)`. This file format is considered legacy. We recommend using instead the native Keras format, e.g. `model.save('my_model.keras')` or `keras.saving.save_model(model, 'my_model.keras')`. \n"
     ]
    },
    {
     "name": "stdout",
     "output_type": "stream",
     "text": [
      "\u001b[1m1265/1265\u001b[0m \u001b[32m━━━━━━━━━━━━━━━━━━━━\u001b[0m\u001b[37m\u001b[0m \u001b[1m8s\u001b[0m 7ms/step - accuracy: 0.6987 - loss: 0.7837 - val_accuracy: 0.7115 - val_loss: 0.7590\n",
      "Epoch 10/100\n",
      "\u001b[1m1265/1265\u001b[0m \u001b[32m━━━━━━━━━━━━━━━━━━━━\u001b[0m\u001b[37m\u001b[0m \u001b[1m7s\u001b[0m 6ms/step - accuracy: 0.7055 - loss: 0.7753 - val_accuracy: 0.7098 - val_loss: 0.7542\n",
      "Epoch 11/100\n",
      "\u001b[1m1262/1265\u001b[0m \u001b[32m━━━━━━━━━━━━━━━━━━━\u001b[0m\u001b[37m━\u001b[0m \u001b[1m0s\u001b[0m 4ms/step - accuracy: 0.7037 - loss: 0.7804"
     ]
    },
    {
     "name": "stderr",
     "output_type": "stream",
     "text": [
      "WARNING:absl:You are saving your model as an HDF5 file via `model.save()` or `keras.saving.save_model(model)`. This file format is considered legacy. We recommend using instead the native Keras format, e.g. `model.save('my_model.keras')` or `keras.saving.save_model(model, 'my_model.keras')`. \n"
     ]
    },
    {
     "name": "stdout",
     "output_type": "stream",
     "text": [
      "\u001b[1m1265/1265\u001b[0m \u001b[32m━━━━━━━━━━━━━━━━━━━━\u001b[0m\u001b[37m\u001b[0m \u001b[1m8s\u001b[0m 7ms/step - accuracy: 0.7037 - loss: 0.7804 - val_accuracy: 0.7143 - val_loss: 0.7506\n",
      "Epoch 12/100\n",
      "\u001b[1m1259/1265\u001b[0m \u001b[32m━━━━━━━━━━━━━━━━━━━\u001b[0m\u001b[37m━\u001b[0m \u001b[1m0s\u001b[0m 5ms/step - accuracy: 0.7105 - loss: 0.7673"
     ]
    },
    {
     "name": "stderr",
     "output_type": "stream",
     "text": [
      "WARNING:absl:You are saving your model as an HDF5 file via `model.save()` or `keras.saving.save_model(model)`. This file format is considered legacy. We recommend using instead the native Keras format, e.g. `model.save('my_model.keras')` or `keras.saving.save_model(model, 'my_model.keras')`. \n"
     ]
    },
    {
     "name": "stdout",
     "output_type": "stream",
     "text": [
      "\u001b[1m1265/1265\u001b[0m \u001b[32m━━━━━━━━━━━━━━━━━━━━\u001b[0m\u001b[37m\u001b[0m \u001b[1m8s\u001b[0m 6ms/step - accuracy: 0.7105 - loss: 0.7673 - val_accuracy: 0.7164 - val_loss: 0.7499\n",
      "Epoch 13/100\n",
      "\u001b[1m1258/1265\u001b[0m \u001b[32m━━━━━━━━━━━━━━━━━━━\u001b[0m\u001b[37m━\u001b[0m \u001b[1m0s\u001b[0m 5ms/step - accuracy: 0.7070 - loss: 0.7690"
     ]
    },
    {
     "name": "stderr",
     "output_type": "stream",
     "text": [
      "WARNING:absl:You are saving your model as an HDF5 file via `model.save()` or `keras.saving.save_model(model)`. This file format is considered legacy. We recommend using instead the native Keras format, e.g. `model.save('my_model.keras')` or `keras.saving.save_model(model, 'my_model.keras')`. \n"
     ]
    },
    {
     "name": "stdout",
     "output_type": "stream",
     "text": [
      "\u001b[1m1265/1265\u001b[0m \u001b[32m━━━━━━━━━━━━━━━━━━━━\u001b[0m\u001b[37m\u001b[0m \u001b[1m9s\u001b[0m 7ms/step - accuracy: 0.7070 - loss: 0.7690 - val_accuracy: 0.7181 - val_loss: 0.7433\n",
      "Epoch 14/100\n",
      "\u001b[1m1264/1265\u001b[0m \u001b[32m━━━━━━━━━━━━━━━━━━━\u001b[0m\u001b[37m━\u001b[0m \u001b[1m0s\u001b[0m 5ms/step - accuracy: 0.7096 - loss: 0.7715"
     ]
    },
    {
     "name": "stderr",
     "output_type": "stream",
     "text": [
      "WARNING:absl:You are saving your model as an HDF5 file via `model.save()` or `keras.saving.save_model(model)`. This file format is considered legacy. We recommend using instead the native Keras format, e.g. `model.save('my_model.keras')` or `keras.saving.save_model(model, 'my_model.keras')`. \n"
     ]
    },
    {
     "name": "stdout",
     "output_type": "stream",
     "text": [
      "\u001b[1m1265/1265\u001b[0m \u001b[32m━━━━━━━━━━━━━━━━━━━━\u001b[0m\u001b[37m\u001b[0m \u001b[1m7s\u001b[0m 6ms/step - accuracy: 0.7096 - loss: 0.7715 - val_accuracy: 0.7204 - val_loss: 0.7329\n",
      "Epoch 15/100\n",
      "\u001b[1m1262/1265\u001b[0m \u001b[32m━━━━━━━━━━━━━━━━━━━\u001b[0m\u001b[37m━\u001b[0m \u001b[1m0s\u001b[0m 4ms/step - accuracy: 0.7133 - loss: 0.7555"
     ]
    },
    {
     "name": "stderr",
     "output_type": "stream",
     "text": [
      "WARNING:absl:You are saving your model as an HDF5 file via `model.save()` or `keras.saving.save_model(model)`. This file format is considered legacy. We recommend using instead the native Keras format, e.g. `model.save('my_model.keras')` or `keras.saving.save_model(model, 'my_model.keras')`. \n"
     ]
    },
    {
     "name": "stdout",
     "output_type": "stream",
     "text": [
      "\u001b[1m1265/1265\u001b[0m \u001b[32m━━━━━━━━━━━━━━━━━━━━\u001b[0m\u001b[37m\u001b[0m \u001b[1m9s\u001b[0m 7ms/step - accuracy: 0.7133 - loss: 0.7555 - val_accuracy: 0.7228 - val_loss: 0.7331\n",
      "Epoch 16/100\n",
      "\u001b[1m1256/1265\u001b[0m \u001b[32m━━━━━━━━━━━━━━━━━━━\u001b[0m\u001b[37m━\u001b[0m \u001b[1m0s\u001b[0m 4ms/step - accuracy: 0.7125 - loss: 0.7529"
     ]
    },
    {
     "name": "stderr",
     "output_type": "stream",
     "text": [
      "WARNING:absl:You are saving your model as an HDF5 file via `model.save()` or `keras.saving.save_model(model)`. This file format is considered legacy. We recommend using instead the native Keras format, e.g. `model.save('my_model.keras')` or `keras.saving.save_model(model, 'my_model.keras')`. \n"
     ]
    },
    {
     "name": "stdout",
     "output_type": "stream",
     "text": [
      "\u001b[1m1265/1265\u001b[0m \u001b[32m━━━━━━━━━━━━━━━━━━━━\u001b[0m\u001b[37m\u001b[0m \u001b[1m9s\u001b[0m 5ms/step - accuracy: 0.7125 - loss: 0.7528 - val_accuracy: 0.7270 - val_loss: 0.7184\n",
      "Epoch 17/100\n",
      "\u001b[1m1253/1265\u001b[0m \u001b[32m━━━━━━━━━━━━━━━━━━━\u001b[0m\u001b[37m━\u001b[0m \u001b[1m0s\u001b[0m 5ms/step - accuracy: 0.7208 - loss: 0.7334"
     ]
    },
    {
     "name": "stderr",
     "output_type": "stream",
     "text": [
      "WARNING:absl:You are saving your model as an HDF5 file via `model.save()` or `keras.saving.save_model(model)`. This file format is considered legacy. We recommend using instead the native Keras format, e.g. `model.save('my_model.keras')` or `keras.saving.save_model(model, 'my_model.keras')`. \n"
     ]
    },
    {
     "name": "stdout",
     "output_type": "stream",
     "text": [
      "\u001b[1m1265/1265\u001b[0m \u001b[32m━━━━━━━━━━━━━━━━━━━━\u001b[0m\u001b[37m\u001b[0m \u001b[1m8s\u001b[0m 6ms/step - accuracy: 0.7208 - loss: 0.7335 - val_accuracy: 0.7356 - val_loss: 0.7006\n",
      "Epoch 18/100\n",
      "\u001b[1m1262/1265\u001b[0m \u001b[32m━━━━━━━━━━━━━━━━━━━\u001b[0m\u001b[37m━\u001b[0m \u001b[1m0s\u001b[0m 4ms/step - accuracy: 0.7271 - loss: 0.7180"
     ]
    },
    {
     "name": "stderr",
     "output_type": "stream",
     "text": [
      "WARNING:absl:You are saving your model as an HDF5 file via `model.save()` or `keras.saving.save_model(model)`. This file format is considered legacy. We recommend using instead the native Keras format, e.g. `model.save('my_model.keras')` or `keras.saving.save_model(model, 'my_model.keras')`. \n"
     ]
    },
    {
     "name": "stdout",
     "output_type": "stream",
     "text": [
      "\u001b[1m1265/1265\u001b[0m \u001b[32m━━━━━━━━━━━━━━━━━━━━\u001b[0m\u001b[37m\u001b[0m \u001b[1m10s\u001b[0m 6ms/step - accuracy: 0.7271 - loss: 0.7180 - val_accuracy: 0.7367 - val_loss: 0.6873\n",
      "Epoch 19/100\n",
      "\u001b[1m1259/1265\u001b[0m \u001b[32m━━━━━━━━━━━━━━━━━━━\u001b[0m\u001b[37m━\u001b[0m \u001b[1m0s\u001b[0m 5ms/step - accuracy: 0.7295 - loss: 0.7128"
     ]
    },
    {
     "name": "stderr",
     "output_type": "stream",
     "text": [
      "WARNING:absl:You are saving your model as an HDF5 file via `model.save()` or `keras.saving.save_model(model)`. This file format is considered legacy. We recommend using instead the native Keras format, e.g. `model.save('my_model.keras')` or `keras.saving.save_model(model, 'my_model.keras')`. \n"
     ]
    },
    {
     "name": "stdout",
     "output_type": "stream",
     "text": [
      "\u001b[1m1265/1265\u001b[0m \u001b[32m━━━━━━━━━━━━━━━━━━━━\u001b[0m\u001b[37m\u001b[0m \u001b[1m9s\u001b[0m 7ms/step - accuracy: 0.7296 - loss: 0.7127 - val_accuracy: 0.7577 - val_loss: 0.6450\n",
      "Epoch 20/100\n",
      "\u001b[1m1264/1265\u001b[0m \u001b[32m━━━━━━━━━━━━━━━━━━━\u001b[0m\u001b[37m━\u001b[0m \u001b[1m0s\u001b[0m 5ms/step - accuracy: 0.7463 - loss: 0.6755"
     ]
    },
    {
     "name": "stderr",
     "output_type": "stream",
     "text": [
      "WARNING:absl:You are saving your model as an HDF5 file via `model.save()` or `keras.saving.save_model(model)`. This file format is considered legacy. We recommend using instead the native Keras format, e.g. `model.save('my_model.keras')` or `keras.saving.save_model(model, 'my_model.keras')`. \n"
     ]
    },
    {
     "name": "stdout",
     "output_type": "stream",
     "text": [
      "\u001b[1m1265/1265\u001b[0m \u001b[32m━━━━━━━━━━━━━━━━━━━━\u001b[0m\u001b[37m\u001b[0m \u001b[1m8s\u001b[0m 6ms/step - accuracy: 0.7463 - loss: 0.6755 - val_accuracy: 0.7672 - val_loss: 0.6210\n",
      "Epoch 21/100\n",
      "\u001b[1m1260/1265\u001b[0m \u001b[32m━━━━━━━━━━━━━━━━━━━\u001b[0m\u001b[37m━\u001b[0m \u001b[1m0s\u001b[0m 5ms/step - accuracy: 0.7499 - loss: 0.6625"
     ]
    },
    {
     "name": "stderr",
     "output_type": "stream",
     "text": [
      "WARNING:absl:You are saving your model as an HDF5 file via `model.save()` or `keras.saving.save_model(model)`. This file format is considered legacy. We recommend using instead the native Keras format, e.g. `model.save('my_model.keras')` or `keras.saving.save_model(model, 'my_model.keras')`. \n"
     ]
    },
    {
     "name": "stdout",
     "output_type": "stream",
     "text": [
      "\u001b[1m1265/1265\u001b[0m \u001b[32m━━━━━━━━━━━━━━━━━━━━\u001b[0m\u001b[37m\u001b[0m \u001b[1m8s\u001b[0m 6ms/step - accuracy: 0.7499 - loss: 0.6625 - val_accuracy: 0.7697 - val_loss: 0.6093\n",
      "Epoch 22/100\n",
      "\u001b[1m1265/1265\u001b[0m \u001b[32m━━━━━━━━━━━━━━━━━━━━\u001b[0m\u001b[37m\u001b[0m \u001b[1m8s\u001b[0m 6ms/step - accuracy: 0.7539 - loss: 0.6483 - val_accuracy: 0.7605 - val_loss: 0.6170\n",
      "Epoch 23/100\n",
      "\u001b[1m1262/1265\u001b[0m \u001b[32m━━━━━━━━━━━━━━━━━━━\u001b[0m\u001b[37m━\u001b[0m \u001b[1m0s\u001b[0m 5ms/step - accuracy: 0.7517 - loss: 0.6522"
     ]
    },
    {
     "name": "stderr",
     "output_type": "stream",
     "text": [
      "WARNING:absl:You are saving your model as an HDF5 file via `model.save()` or `keras.saving.save_model(model)`. This file format is considered legacy. We recommend using instead the native Keras format, e.g. `model.save('my_model.keras')` or `keras.saving.save_model(model, 'my_model.keras')`. \n"
     ]
    },
    {
     "name": "stdout",
     "output_type": "stream",
     "text": [
      "\u001b[1m1265/1265\u001b[0m \u001b[32m━━━━━━━━━━━━━━━━━━━━\u001b[0m\u001b[37m\u001b[0m \u001b[1m10s\u001b[0m 6ms/step - accuracy: 0.7517 - loss: 0.6522 - val_accuracy: 0.7719 - val_loss: 0.5947\n",
      "Epoch 24/100\n",
      "\u001b[1m1257/1265\u001b[0m \u001b[32m━━━━━━━━━━━━━━━━━━━\u001b[0m\u001b[37m━\u001b[0m \u001b[1m0s\u001b[0m 4ms/step - accuracy: 0.7581 - loss: 0.6270"
     ]
    },
    {
     "name": "stderr",
     "output_type": "stream",
     "text": [
      "WARNING:absl:You are saving your model as an HDF5 file via `model.save()` or `keras.saving.save_model(model)`. This file format is considered legacy. We recommend using instead the native Keras format, e.g. `model.save('my_model.keras')` or `keras.saving.save_model(model, 'my_model.keras')`. \n"
     ]
    },
    {
     "name": "stdout",
     "output_type": "stream",
     "text": [
      "\u001b[1m1265/1265\u001b[0m \u001b[32m━━━━━━━━━━━━━━━━━━━━\u001b[0m\u001b[37m\u001b[0m \u001b[1m8s\u001b[0m 6ms/step - accuracy: 0.7581 - loss: 0.6271 - val_accuracy: 0.7738 - val_loss: 0.5897\n",
      "Epoch 25/100\n",
      "\u001b[1m1265/1265\u001b[0m \u001b[32m━━━━━━━━━━━━━━━━━━━━\u001b[0m\u001b[37m\u001b[0m \u001b[1m10s\u001b[0m 6ms/step - accuracy: 0.7593 - loss: 0.6301 - val_accuracy: 0.7687 - val_loss: 0.6024\n",
      "Epoch 26/100\n",
      "\u001b[1m1265/1265\u001b[0m \u001b[32m━━━━━━━━━━━━━━━━━━━━\u001b[0m\u001b[37m\u001b[0m \u001b[1m9s\u001b[0m 7ms/step - accuracy: 0.7602 - loss: 0.6292 - val_accuracy: 0.7718 - val_loss: 0.5859\n",
      "Epoch 27/100\n",
      "\u001b[1m1262/1265\u001b[0m \u001b[32m━━━━━━━━━━━━━━━━━━━\u001b[0m\u001b[37m━\u001b[0m \u001b[1m0s\u001b[0m 5ms/step - accuracy: 0.7588 - loss: 0.6300"
     ]
    },
    {
     "name": "stderr",
     "output_type": "stream",
     "text": [
      "WARNING:absl:You are saving your model as an HDF5 file via `model.save()` or `keras.saving.save_model(model)`. This file format is considered legacy. We recommend using instead the native Keras format, e.g. `model.save('my_model.keras')` or `keras.saving.save_model(model, 'my_model.keras')`. \n"
     ]
    },
    {
     "name": "stdout",
     "output_type": "stream",
     "text": [
      "\u001b[1m1265/1265\u001b[0m \u001b[32m━━━━━━━━━━━━━━━━━━━━\u001b[0m\u001b[37m\u001b[0m \u001b[1m10s\u001b[0m 6ms/step - accuracy: 0.7588 - loss: 0.6300 - val_accuracy: 0.7739 - val_loss: 0.5832\n",
      "Epoch 28/100\n",
      "\u001b[1m1263/1265\u001b[0m \u001b[32m━━━━━━━━━━━━━━━━━━━\u001b[0m\u001b[37m━\u001b[0m \u001b[1m0s\u001b[0m 5ms/step - accuracy: 0.7644 - loss: 0.6180"
     ]
    },
    {
     "name": "stderr",
     "output_type": "stream",
     "text": [
      "WARNING:absl:You are saving your model as an HDF5 file via `model.save()` or `keras.saving.save_model(model)`. This file format is considered legacy. We recommend using instead the native Keras format, e.g. `model.save('my_model.keras')` or `keras.saving.save_model(model, 'my_model.keras')`. \n"
     ]
    },
    {
     "name": "stdout",
     "output_type": "stream",
     "text": [
      "\u001b[1m1265/1265\u001b[0m \u001b[32m━━━━━━━━━━━━━━━━━━━━\u001b[0m\u001b[37m\u001b[0m \u001b[1m8s\u001b[0m 6ms/step - accuracy: 0.7644 - loss: 0.6181 - val_accuracy: 0.7746 - val_loss: 0.5794\n",
      "Epoch 29/100\n",
      "\u001b[1m1262/1265\u001b[0m \u001b[32m━━━━━━━━━━━━━━━━━━━\u001b[0m\u001b[37m━\u001b[0m \u001b[1m0s\u001b[0m 5ms/step - accuracy: 0.7597 - loss: 0.6314"
     ]
    },
    {
     "name": "stderr",
     "output_type": "stream",
     "text": [
      "WARNING:absl:You are saving your model as an HDF5 file via `model.save()` or `keras.saving.save_model(model)`. This file format is considered legacy. We recommend using instead the native Keras format, e.g. `model.save('my_model.keras')` or `keras.saving.save_model(model, 'my_model.keras')`. \n"
     ]
    },
    {
     "name": "stdout",
     "output_type": "stream",
     "text": [
      "\u001b[1m1265/1265\u001b[0m \u001b[32m━━━━━━━━━━━━━━━━━━━━\u001b[0m\u001b[37m\u001b[0m \u001b[1m10s\u001b[0m 8ms/step - accuracy: 0.7597 - loss: 0.6314 - val_accuracy: 0.7755 - val_loss: 0.5826\n",
      "Epoch 30/100\n",
      "\u001b[1m1265/1265\u001b[0m \u001b[32m━━━━━━━━━━━━━━━━━━━━\u001b[0m\u001b[37m\u001b[0m \u001b[1m9s\u001b[0m 6ms/step - accuracy: 0.7624 - loss: 0.6196 - val_accuracy: 0.7660 - val_loss: 0.5870\n",
      "Epoch 31/100\n",
      "\u001b[1m1265/1265\u001b[0m \u001b[32m━━━━━━━━━━━━━━━━━━━━\u001b[0m\u001b[37m\u001b[0m \u001b[1m11s\u001b[0m 7ms/step - accuracy: 0.7601 - loss: 0.6224 - val_accuracy: 0.7707 - val_loss: 0.5848\n",
      "Epoch 32/100\n",
      "\u001b[1m1255/1265\u001b[0m \u001b[32m━━━━━━━━━━━━━━━━━━━\u001b[0m\u001b[37m━\u001b[0m \u001b[1m0s\u001b[0m 5ms/step - accuracy: 0.7619 - loss: 0.6207"
     ]
    },
    {
     "name": "stderr",
     "output_type": "stream",
     "text": [
      "WARNING:absl:You are saving your model as an HDF5 file via `model.save()` or `keras.saving.save_model(model)`. This file format is considered legacy. We recommend using instead the native Keras format, e.g. `model.save('my_model.keras')` or `keras.saving.save_model(model, 'my_model.keras')`. \n"
     ]
    },
    {
     "name": "stdout",
     "output_type": "stream",
     "text": [
      "\u001b[1m1265/1265\u001b[0m \u001b[32m━━━━━━━━━━━━━━━━━━━━\u001b[0m\u001b[37m\u001b[0m \u001b[1m8s\u001b[0m 6ms/step - accuracy: 0.7619 - loss: 0.6207 - val_accuracy: 0.7760 - val_loss: 0.5798\n",
      "Epoch 33/100\n",
      "\u001b[1m1265/1265\u001b[0m \u001b[32m━━━━━━━━━━━━━━━━━━━━\u001b[0m\u001b[37m\u001b[0m \u001b[1m0s\u001b[0m 4ms/step - accuracy: 0.7644 - loss: 0.6186"
     ]
    },
    {
     "name": "stderr",
     "output_type": "stream",
     "text": [
      "WARNING:absl:You are saving your model as an HDF5 file via `model.save()` or `keras.saving.save_model(model)`. This file format is considered legacy. We recommend using instead the native Keras format, e.g. `model.save('my_model.keras')` or `keras.saving.save_model(model, 'my_model.keras')`. \n"
     ]
    },
    {
     "name": "stdout",
     "output_type": "stream",
     "text": [
      "\u001b[1m1265/1265\u001b[0m \u001b[32m━━━━━━━━━━━━━━━━━━━━\u001b[0m\u001b[37m\u001b[0m \u001b[1m7s\u001b[0m 6ms/step - accuracy: 0.7644 - loss: 0.6186 - val_accuracy: 0.7773 - val_loss: 0.5731\n",
      "Epoch 34/100\n",
      "\u001b[1m1265/1265\u001b[0m \u001b[32m━━━━━━━━━━━━━━━━━━━━\u001b[0m\u001b[37m\u001b[0m \u001b[1m11s\u001b[0m 6ms/step - accuracy: 0.7615 - loss: 0.6199 - val_accuracy: 0.7634 - val_loss: 0.5896\n",
      "Epoch 35/100\n",
      "\u001b[1m1258/1265\u001b[0m \u001b[32m━━━━━━━━━━━━━━━━━━━\u001b[0m\u001b[37m━\u001b[0m \u001b[1m0s\u001b[0m 5ms/step - accuracy: 0.7703 - loss: 0.6086"
     ]
    },
    {
     "name": "stderr",
     "output_type": "stream",
     "text": [
      "WARNING:absl:You are saving your model as an HDF5 file via `model.save()` or `keras.saving.save_model(model)`. This file format is considered legacy. We recommend using instead the native Keras format, e.g. `model.save('my_model.keras')` or `keras.saving.save_model(model, 'my_model.keras')`. \n"
     ]
    },
    {
     "name": "stdout",
     "output_type": "stream",
     "text": [
      "\u001b[1m1265/1265\u001b[0m \u001b[32m━━━━━━━━━━━━━━━━━━━━\u001b[0m\u001b[37m\u001b[0m \u001b[1m8s\u001b[0m 6ms/step - accuracy: 0.7703 - loss: 0.6086 - val_accuracy: 0.7789 - val_loss: 0.5741\n",
      "Epoch 36/100\n",
      "\u001b[1m1262/1265\u001b[0m \u001b[32m━━━━━━━━━━━━━━━━━━━\u001b[0m\u001b[37m━\u001b[0m \u001b[1m0s\u001b[0m 4ms/step - accuracy: 0.7648 - loss: 0.6115"
     ]
    },
    {
     "name": "stderr",
     "output_type": "stream",
     "text": [
      "WARNING:absl:You are saving your model as an HDF5 file via `model.save()` or `keras.saving.save_model(model)`. This file format is considered legacy. We recommend using instead the native Keras format, e.g. `model.save('my_model.keras')` or `keras.saving.save_model(model, 'my_model.keras')`. \n"
     ]
    },
    {
     "name": "stdout",
     "output_type": "stream",
     "text": [
      "\u001b[1m1265/1265\u001b[0m \u001b[32m━━━━━━━━━━━━━━━━━━━━\u001b[0m\u001b[37m\u001b[0m \u001b[1m10s\u001b[0m 6ms/step - accuracy: 0.7648 - loss: 0.6115 - val_accuracy: 0.7789 - val_loss: 0.5748\n",
      "Epoch 37/100\n",
      "\u001b[1m1265/1265\u001b[0m \u001b[32m━━━━━━━━━━━━━━━━━━━━\u001b[0m\u001b[37m\u001b[0m \u001b[1m0s\u001b[0m 5ms/step - accuracy: 0.7613 - loss: 0.6271"
     ]
    },
    {
     "name": "stderr",
     "output_type": "stream",
     "text": [
      "WARNING:absl:You are saving your model as an HDF5 file via `model.save()` or `keras.saving.save_model(model)`. This file format is considered legacy. We recommend using instead the native Keras format, e.g. `model.save('my_model.keras')` or `keras.saving.save_model(model, 'my_model.keras')`. \n"
     ]
    },
    {
     "name": "stdout",
     "output_type": "stream",
     "text": [
      "\u001b[1m1265/1265\u001b[0m \u001b[32m━━━━━━━━━━━━━━━━━━━━\u001b[0m\u001b[37m\u001b[0m \u001b[1m8s\u001b[0m 6ms/step - accuracy: 0.7613 - loss: 0.6271 - val_accuracy: 0.7804 - val_loss: 0.5689\n",
      "Epoch 38/100\n",
      "\u001b[1m1265/1265\u001b[0m \u001b[32m━━━━━━━━━━━━━━━━━━━━\u001b[0m\u001b[37m\u001b[0m \u001b[1m9s\u001b[0m 5ms/step - accuracy: 0.7621 - loss: 0.6126 - val_accuracy: 0.7660 - val_loss: 0.5962\n",
      "Epoch 39/100\n",
      "\u001b[1m1265/1265\u001b[0m \u001b[32m━━━━━━━━━━━━━━━━━━━━\u001b[0m\u001b[37m\u001b[0m \u001b[1m11s\u001b[0m 6ms/step - accuracy: 0.7654 - loss: 0.6094 - val_accuracy: 0.7762 - val_loss: 0.5753\n",
      "Epoch 40/100\n",
      "\u001b[1m1265/1265\u001b[0m \u001b[32m━━━━━━━━━━━━━━━━━━━━\u001b[0m\u001b[37m\u001b[0m \u001b[1m7s\u001b[0m 6ms/step - accuracy: 0.7642 - loss: 0.6123 - val_accuracy: 0.7724 - val_loss: 0.5731\n",
      "Epoch 41/100\n",
      "\u001b[1m1265/1265\u001b[0m \u001b[32m━━━━━━━━━━━━━━━━━━━━\u001b[0m\u001b[37m\u001b[0m \u001b[1m8s\u001b[0m 6ms/step - accuracy: 0.7641 - loss: 0.6129 - val_accuracy: 0.7800 - val_loss: 0.5684\n",
      "Epoch 42/100\n",
      "\u001b[1m1265/1265\u001b[0m \u001b[32m━━━━━━━━━━━━━━━━━━━━\u001b[0m\u001b[37m\u001b[0m \u001b[1m8s\u001b[0m 6ms/step - accuracy: 0.7707 - loss: 0.6049 - val_accuracy: 0.7773 - val_loss: 0.5680\n",
      "Epoch 43/100\n",
      "\u001b[1m1265/1265\u001b[0m \u001b[32m━━━━━━━━━━━━━━━━━━━━\u001b[0m\u001b[37m\u001b[0m \u001b[1m8s\u001b[0m 6ms/step - accuracy: 0.7688 - loss: 0.6038 - val_accuracy: 0.7729 - val_loss: 0.5844\n",
      "Epoch 44/100\n",
      "\u001b[1m1265/1265\u001b[0m \u001b[32m━━━━━━━━━━━━━━━━━━━━\u001b[0m\u001b[37m\u001b[0m \u001b[1m7s\u001b[0m 5ms/step - accuracy: 0.7692 - loss: 0.6072 - val_accuracy: 0.7788 - val_loss: 0.5738\n",
      "Epoch 45/100\n",
      "\u001b[1m1265/1265\u001b[0m \u001b[32m━━━━━━━━━━━━━━━━━━━━\u001b[0m\u001b[37m\u001b[0m \u001b[1m8s\u001b[0m 6ms/step - accuracy: 0.7653 - loss: 0.6101 - val_accuracy: 0.7750 - val_loss: 0.5761\n",
      "Epoch 46/100\n",
      "\u001b[1m1265/1265\u001b[0m \u001b[32m━━━━━━━━━━━━━━━━━━━━\u001b[0m\u001b[37m\u001b[0m \u001b[1m9s\u001b[0m 6ms/step - accuracy: 0.7640 - loss: 0.6130 - val_accuracy: 0.7789 - val_loss: 0.5660\n",
      "Epoch 47/100\n",
      "\u001b[1m1264/1265\u001b[0m \u001b[32m━━━━━━━━━━━━━━━━━━━\u001b[0m\u001b[37m━\u001b[0m \u001b[1m0s\u001b[0m 5ms/step - accuracy: 0.7651 - loss: 0.6070"
     ]
    },
    {
     "name": "stderr",
     "output_type": "stream",
     "text": [
      "WARNING:absl:You are saving your model as an HDF5 file via `model.save()` or `keras.saving.save_model(model)`. This file format is considered legacy. We recommend using instead the native Keras format, e.g. `model.save('my_model.keras')` or `keras.saving.save_model(model, 'my_model.keras')`. \n"
     ]
    },
    {
     "name": "stdout",
     "output_type": "stream",
     "text": [
      "\u001b[1m1265/1265\u001b[0m \u001b[32m━━━━━━━━━━━━━━━━━━━━\u001b[0m\u001b[37m\u001b[0m \u001b[1m10s\u001b[0m 6ms/step - accuracy: 0.7651 - loss: 0.6070 - val_accuracy: 0.7822 - val_loss: 0.5617\n",
      "Epoch 48/100\n",
      "\u001b[1m1265/1265\u001b[0m \u001b[32m━━━━━━━━━━━━━━━━━━━━\u001b[0m\u001b[37m\u001b[0m \u001b[1m11s\u001b[0m 6ms/step - accuracy: 0.7663 - loss: 0.6146 - val_accuracy: 0.7777 - val_loss: 0.5670\n",
      "Epoch 49/100\n",
      "\u001b[1m1265/1265\u001b[0m \u001b[32m━━━━━━━━━━━━━━━━━━━━\u001b[0m\u001b[37m\u001b[0m \u001b[1m9s\u001b[0m 5ms/step - accuracy: 0.7658 - loss: 0.6152 - val_accuracy: 0.7721 - val_loss: 0.5789\n",
      "Epoch 50/100\n",
      "\u001b[1m1265/1265\u001b[0m \u001b[32m━━━━━━━━━━━━━━━━━━━━\u001b[0m\u001b[37m\u001b[0m \u001b[1m11s\u001b[0m 6ms/step - accuracy: 0.7665 - loss: 0.6039 - val_accuracy: 0.7790 - val_loss: 0.5674\n",
      "Epoch 51/100\n",
      "\u001b[1m1265/1265\u001b[0m \u001b[32m━━━━━━━━━━━━━━━━━━━━\u001b[0m\u001b[37m\u001b[0m \u001b[1m11s\u001b[0m 6ms/step - accuracy: 0.7643 - loss: 0.6143 - val_accuracy: 0.7798 - val_loss: 0.5702\n",
      "Epoch 52/100\n",
      "\u001b[1m1265/1265\u001b[0m \u001b[32m━━━━━━━━━━━━━━━━━━━━\u001b[0m\u001b[37m\u001b[0m \u001b[1m7s\u001b[0m 5ms/step - accuracy: 0.7669 - loss: 0.6132 - val_accuracy: 0.7776 - val_loss: 0.5723\n",
      "Epoch 53/100\n",
      "\u001b[1m1265/1265\u001b[0m \u001b[32m━━━━━━━━━━━━━━━━━━━━\u001b[0m\u001b[37m\u001b[0m \u001b[1m8s\u001b[0m 7ms/step - accuracy: 0.7625 - loss: 0.6143 - val_accuracy: 0.7816 - val_loss: 0.5622\n",
      "Epoch 54/100\n",
      "\u001b[1m1265/1265\u001b[0m \u001b[32m━━━━━━━━━━━━━━━━━━━━\u001b[0m\u001b[37m\u001b[0m \u001b[1m7s\u001b[0m 6ms/step - accuracy: 0.7691 - loss: 0.6048 - val_accuracy: 0.7802 - val_loss: 0.5742\n",
      "Epoch 55/100\n",
      "\u001b[1m1265/1265\u001b[0m \u001b[32m━━━━━━━━━━━━━━━━━━━━\u001b[0m\u001b[37m\u001b[0m \u001b[1m0s\u001b[0m 5ms/step - accuracy: 0.7673 - loss: 0.6061"
     ]
    },
    {
     "name": "stderr",
     "output_type": "stream",
     "text": [
      "WARNING:absl:You are saving your model as an HDF5 file via `model.save()` or `keras.saving.save_model(model)`. This file format is considered legacy. We recommend using instead the native Keras format, e.g. `model.save('my_model.keras')` or `keras.saving.save_model(model, 'my_model.keras')`. \n"
     ]
    },
    {
     "name": "stdout",
     "output_type": "stream",
     "text": [
      "\u001b[1m1265/1265\u001b[0m \u001b[32m━━━━━━━━━━━━━━━━━━━━\u001b[0m\u001b[37m\u001b[0m \u001b[1m8s\u001b[0m 6ms/step - accuracy: 0.7673 - loss: 0.6061 - val_accuracy: 0.7835 - val_loss: 0.5609\n",
      "Epoch 56/100\n",
      "\u001b[1m1255/1265\u001b[0m \u001b[32m━━━━━━━━━━━━━━━━━━━\u001b[0m\u001b[37m━\u001b[0m \u001b[1m0s\u001b[0m 5ms/step - accuracy: 0.7691 - loss: 0.5971"
     ]
    },
    {
     "name": "stderr",
     "output_type": "stream",
     "text": [
      "WARNING:absl:You are saving your model as an HDF5 file via `model.save()` or `keras.saving.save_model(model)`. This file format is considered legacy. We recommend using instead the native Keras format, e.g. `model.save('my_model.keras')` or `keras.saving.save_model(model, 'my_model.keras')`. \n"
     ]
    },
    {
     "name": "stdout",
     "output_type": "stream",
     "text": [
      "\u001b[1m1265/1265\u001b[0m \u001b[32m━━━━━━━━━━━━━━━━━━━━\u001b[0m\u001b[37m\u001b[0m \u001b[1m7s\u001b[0m 6ms/step - accuracy: 0.7691 - loss: 0.5971 - val_accuracy: 0.7841 - val_loss: 0.5551\n",
      "Epoch 57/100\n",
      "\u001b[1m1265/1265\u001b[0m \u001b[32m━━━━━━━━━━━━━━━━━━━━\u001b[0m\u001b[37m\u001b[0m \u001b[1m8s\u001b[0m 6ms/step - accuracy: 0.7713 - loss: 0.5986 - val_accuracy: 0.7814 - val_loss: 0.5609\n",
      "Epoch 58/100\n",
      "\u001b[1m1255/1265\u001b[0m \u001b[32m━━━━━━━━━━━━━━━━━━━\u001b[0m\u001b[37m━\u001b[0m \u001b[1m0s\u001b[0m 5ms/step - accuracy: 0.7702 - loss: 0.6015"
     ]
    },
    {
     "name": "stderr",
     "output_type": "stream",
     "text": [
      "WARNING:absl:You are saving your model as an HDF5 file via `model.save()` or `keras.saving.save_model(model)`. This file format is considered legacy. We recommend using instead the native Keras format, e.g. `model.save('my_model.keras')` or `keras.saving.save_model(model, 'my_model.keras')`. \n"
     ]
    },
    {
     "name": "stdout",
     "output_type": "stream",
     "text": [
      "\u001b[1m1265/1265\u001b[0m \u001b[32m━━━━━━━━━━━━━━━━━━━━\u001b[0m\u001b[37m\u001b[0m \u001b[1m8s\u001b[0m 6ms/step - accuracy: 0.7702 - loss: 0.6015 - val_accuracy: 0.7861 - val_loss: 0.5568\n",
      "Epoch 59/100\n",
      "\u001b[1m1265/1265\u001b[0m \u001b[32m━━━━━━━━━━━━━━━━━━━━\u001b[0m\u001b[37m\u001b[0m \u001b[1m7s\u001b[0m 5ms/step - accuracy: 0.7635 - loss: 0.6085 - val_accuracy: 0.7824 - val_loss: 0.5591\n",
      "Epoch 60/100\n",
      "\u001b[1m1265/1265\u001b[0m \u001b[32m━━━━━━━━━━━━━━━━━━━━\u001b[0m\u001b[37m\u001b[0m \u001b[1m9s\u001b[0m 7ms/step - accuracy: 0.7723 - loss: 0.6046 - val_accuracy: 0.7844 - val_loss: 0.5584\n",
      "Epoch 61/100\n",
      "\u001b[1m1265/1265\u001b[0m \u001b[32m━━━━━━━━━━━━━━━━━━━━\u001b[0m\u001b[37m\u001b[0m \u001b[1m7s\u001b[0m 6ms/step - accuracy: 0.7691 - loss: 0.6094 - val_accuracy: 0.7758 - val_loss: 0.5722\n",
      "Epoch 62/100\n",
      "\u001b[1m1265/1265\u001b[0m \u001b[32m━━━━━━━━━━━━━━━━━━━━\u001b[0m\u001b[37m\u001b[0m \u001b[1m8s\u001b[0m 6ms/step - accuracy: 0.7672 - loss: 0.6059 - val_accuracy: 0.7792 - val_loss: 0.5751\n",
      "Epoch 63/100\n",
      "\u001b[1m1265/1265\u001b[0m \u001b[32m━━━━━━━━━━━━━━━━━━━━\u001b[0m\u001b[37m\u001b[0m \u001b[1m10s\u001b[0m 6ms/step - accuracy: 0.7722 - loss: 0.6034 - val_accuracy: 0.7841 - val_loss: 0.5579\n",
      "Epoch 64/100\n",
      "\u001b[1m1265/1265\u001b[0m \u001b[32m━━━━━━━━━━━━━━━━━━━━\u001b[0m\u001b[37m\u001b[0m \u001b[1m7s\u001b[0m 6ms/step - accuracy: 0.7727 - loss: 0.6000 - val_accuracy: 0.7841 - val_loss: 0.5602\n",
      "Epoch 65/100\n",
      "\u001b[1m1265/1265\u001b[0m \u001b[32m━━━━━━━━━━━━━━━━━━━━\u001b[0m\u001b[37m\u001b[0m \u001b[1m8s\u001b[0m 6ms/step - accuracy: 0.7712 - loss: 0.6091 - val_accuracy: 0.7773 - val_loss: 0.5633\n",
      "Epoch 66/100\n",
      "\u001b[1m1265/1265\u001b[0m \u001b[32m━━━━━━━━━━━━━━━━━━━━\u001b[0m\u001b[37m\u001b[0m \u001b[1m8s\u001b[0m 6ms/step - accuracy: 0.7699 - loss: 0.5966 - val_accuracy: 0.7824 - val_loss: 0.5600\n",
      "Epoch 66: early stopping\n"
     ]
    },
    {
     "data": {
      "text/plain": [
       "<keras.src.callbacks.history.History at 0x1e175b1d4c0>"
      ]
     },
     "execution_count": 110,
     "metadata": {},
     "output_type": "execute_result"
    }
   ],
   "source": [
    "from keras.models import Sequential, load_model\n",
    "from keras.layers import Dense, Dropout\n",
    "from keras.callbacks import EarlyStopping, ModelCheckpoint\n",
    "\n",
    "\n",
    "modelANNKeras = Sequential()\n",
    "\n",
    "# Input + first hidden layer\n",
    "modelANNKeras.add(Dense(units=16, activation='relu', input_shape=(9,), kernel_initializer='uniform'))\n",
    "modelANNKeras.add(Dropout(0.05))\n",
    "\n",
    "# Second hidden layer (optional)\n",
    "modelANNKeras.add(Dense(units=16, activation='relu', kernel_initializer='uniform'))\n",
    "modelANNKeras.add(Dropout(0.05))\n",
    "\n",
    "# Output layer for 4 classes\n",
    "modelANNKeras.add(Dense(units=5, activation='softmax', kernel_initializer='uniform'))\n",
    "\n",
    "# Compile the model (use sparse_* if labels are integers)\n",
    "modelANNKeras.compile(optimizer='adam',\n",
    "                      loss='sparse_categorical_crossentropy',  \n",
    "                      metrics=['accuracy'])\n",
    "\n",
    "# Early stopping\n",
    "early_stop = EarlyStopping(monitor='val_loss', patience=10, min_delta=0.0001, verbose=1)\n",
    "\n",
    "# Save the best model\n",
    "checkpoint = ModelCheckpoint('best_model.h5', monitor='val_accuracy', save_best_only=True, mode='max')\n",
    "\n",
    "\n",
    "# Train the model\n",
    "modelANNKeras.fit(X_train, y_train,\n",
    "                  batch_size=32,\n",
    "                  epochs=100,\n",
    "                  validation_data=(X_test, y_test),\n",
    "                  callbacks=[early_stop, checkpoint],\n",
    "                  verbose=1)"
   ]
  },
  {
   "cell_type": "code",
   "execution_count": 111,
   "id": "f431fc18-115e-481e-918a-ee7a015ad293",
   "metadata": {},
   "outputs": [
    {
     "data": {
      "text/html": [
       "<pre style=\"white-space:pre;overflow-x:auto;line-height:normal;font-family:Menlo,'DejaVu Sans Mono',consolas,'Courier New',monospace\"><span style=\"font-weight: bold\">Model: \"sequential_7\"</span>\n",
       "</pre>\n"
      ],
      "text/plain": [
       "\u001b[1mModel: \"sequential_7\"\u001b[0m\n"
      ]
     },
     "metadata": {},
     "output_type": "display_data"
    },
    {
     "data": {
      "text/html": [
       "<pre style=\"white-space:pre;overflow-x:auto;line-height:normal;font-family:Menlo,'DejaVu Sans Mono',consolas,'Courier New',monospace\">┏━━━━━━━━━━━━━━━━━━━━━━━━━━━━━━━━━┳━━━━━━━━━━━━━━━━━━━━━━━━┳━━━━━━━━━━━━━━━┓\n",
       "┃<span style=\"font-weight: bold\"> Layer (type)                    </span>┃<span style=\"font-weight: bold\"> Output Shape           </span>┃<span style=\"font-weight: bold\">       Param # </span>┃\n",
       "┡━━━━━━━━━━━━━━━━━━━━━━━━━━━━━━━━━╇━━━━━━━━━━━━━━━━━━━━━━━━╇━━━━━━━━━━━━━━━┩\n",
       "│ dense_21 (<span style=\"color: #0087ff; text-decoration-color: #0087ff\">Dense</span>)                │ (<span style=\"color: #00d7ff; text-decoration-color: #00d7ff\">None</span>, <span style=\"color: #00af00; text-decoration-color: #00af00\">16</span>)             │           <span style=\"color: #00af00; text-decoration-color: #00af00\">160</span> │\n",
       "├─────────────────────────────────┼────────────────────────┼───────────────┤\n",
       "│ dropout_14 (<span style=\"color: #0087ff; text-decoration-color: #0087ff\">Dropout</span>)            │ (<span style=\"color: #00d7ff; text-decoration-color: #00d7ff\">None</span>, <span style=\"color: #00af00; text-decoration-color: #00af00\">16</span>)             │             <span style=\"color: #00af00; text-decoration-color: #00af00\">0</span> │\n",
       "├─────────────────────────────────┼────────────────────────┼───────────────┤\n",
       "│ dense_22 (<span style=\"color: #0087ff; text-decoration-color: #0087ff\">Dense</span>)                │ (<span style=\"color: #00d7ff; text-decoration-color: #00d7ff\">None</span>, <span style=\"color: #00af00; text-decoration-color: #00af00\">16</span>)             │           <span style=\"color: #00af00; text-decoration-color: #00af00\">272</span> │\n",
       "├─────────────────────────────────┼────────────────────────┼───────────────┤\n",
       "│ dropout_15 (<span style=\"color: #0087ff; text-decoration-color: #0087ff\">Dropout</span>)            │ (<span style=\"color: #00d7ff; text-decoration-color: #00d7ff\">None</span>, <span style=\"color: #00af00; text-decoration-color: #00af00\">16</span>)             │             <span style=\"color: #00af00; text-decoration-color: #00af00\">0</span> │\n",
       "├─────────────────────────────────┼────────────────────────┼───────────────┤\n",
       "│ dense_23 (<span style=\"color: #0087ff; text-decoration-color: #0087ff\">Dense</span>)                │ (<span style=\"color: #00d7ff; text-decoration-color: #00d7ff\">None</span>, <span style=\"color: #00af00; text-decoration-color: #00af00\">5</span>)              │            <span style=\"color: #00af00; text-decoration-color: #00af00\">85</span> │\n",
       "└─────────────────────────────────┴────────────────────────┴───────────────┘\n",
       "</pre>\n"
      ],
      "text/plain": [
       "┏━━━━━━━━━━━━━━━━━━━━━━━━━━━━━━━━━┳━━━━━━━━━━━━━━━━━━━━━━━━┳━━━━━━━━━━━━━━━┓\n",
       "┃\u001b[1m \u001b[0m\u001b[1mLayer (type)                   \u001b[0m\u001b[1m \u001b[0m┃\u001b[1m \u001b[0m\u001b[1mOutput Shape          \u001b[0m\u001b[1m \u001b[0m┃\u001b[1m \u001b[0m\u001b[1m      Param #\u001b[0m\u001b[1m \u001b[0m┃\n",
       "┡━━━━━━━━━━━━━━━━━━━━━━━━━━━━━━━━━╇━━━━━━━━━━━━━━━━━━━━━━━━╇━━━━━━━━━━━━━━━┩\n",
       "│ dense_21 (\u001b[38;5;33mDense\u001b[0m)                │ (\u001b[38;5;45mNone\u001b[0m, \u001b[38;5;34m16\u001b[0m)             │           \u001b[38;5;34m160\u001b[0m │\n",
       "├─────────────────────────────────┼────────────────────────┼───────────────┤\n",
       "│ dropout_14 (\u001b[38;5;33mDropout\u001b[0m)            │ (\u001b[38;5;45mNone\u001b[0m, \u001b[38;5;34m16\u001b[0m)             │             \u001b[38;5;34m0\u001b[0m │\n",
       "├─────────────────────────────────┼────────────────────────┼───────────────┤\n",
       "│ dense_22 (\u001b[38;5;33mDense\u001b[0m)                │ (\u001b[38;5;45mNone\u001b[0m, \u001b[38;5;34m16\u001b[0m)             │           \u001b[38;5;34m272\u001b[0m │\n",
       "├─────────────────────────────────┼────────────────────────┼───────────────┤\n",
       "│ dropout_15 (\u001b[38;5;33mDropout\u001b[0m)            │ (\u001b[38;5;45mNone\u001b[0m, \u001b[38;5;34m16\u001b[0m)             │             \u001b[38;5;34m0\u001b[0m │\n",
       "├─────────────────────────────────┼────────────────────────┼───────────────┤\n",
       "│ dense_23 (\u001b[38;5;33mDense\u001b[0m)                │ (\u001b[38;5;45mNone\u001b[0m, \u001b[38;5;34m5\u001b[0m)              │            \u001b[38;5;34m85\u001b[0m │\n",
       "└─────────────────────────────────┴────────────────────────┴───────────────┘\n"
      ]
     },
     "metadata": {},
     "output_type": "display_data"
    },
    {
     "data": {
      "text/html": [
       "<pre style=\"white-space:pre;overflow-x:auto;line-height:normal;font-family:Menlo,'DejaVu Sans Mono',consolas,'Courier New',monospace\"><span style=\"font-weight: bold\"> Total params: </span><span style=\"color: #00af00; text-decoration-color: #00af00\">1,553</span> (6.07 KB)\n",
       "</pre>\n"
      ],
      "text/plain": [
       "\u001b[1m Total params: \u001b[0m\u001b[38;5;34m1,553\u001b[0m (6.07 KB)\n"
      ]
     },
     "metadata": {},
     "output_type": "display_data"
    },
    {
     "data": {
      "text/html": [
       "<pre style=\"white-space:pre;overflow-x:auto;line-height:normal;font-family:Menlo,'DejaVu Sans Mono',consolas,'Courier New',monospace\"><span style=\"font-weight: bold\"> Trainable params: </span><span style=\"color: #00af00; text-decoration-color: #00af00\">517</span> (2.02 KB)\n",
       "</pre>\n"
      ],
      "text/plain": [
       "\u001b[1m Trainable params: \u001b[0m\u001b[38;5;34m517\u001b[0m (2.02 KB)\n"
      ]
     },
     "metadata": {},
     "output_type": "display_data"
    },
    {
     "data": {
      "text/html": [
       "<pre style=\"white-space:pre;overflow-x:auto;line-height:normal;font-family:Menlo,'DejaVu Sans Mono',consolas,'Courier New',monospace\"><span style=\"font-weight: bold\"> Non-trainable params: </span><span style=\"color: #00af00; text-decoration-color: #00af00\">0</span> (0.00 B)\n",
       "</pre>\n"
      ],
      "text/plain": [
       "\u001b[1m Non-trainable params: \u001b[0m\u001b[38;5;34m0\u001b[0m (0.00 B)\n"
      ]
     },
     "metadata": {},
     "output_type": "display_data"
    },
    {
     "data": {
      "text/html": [
       "<pre style=\"white-space:pre;overflow-x:auto;line-height:normal;font-family:Menlo,'DejaVu Sans Mono',consolas,'Courier New',monospace\"><span style=\"font-weight: bold\"> Optimizer params: </span><span style=\"color: #00af00; text-decoration-color: #00af00\">1,036</span> (4.05 KB)\n",
       "</pre>\n"
      ],
      "text/plain": [
       "\u001b[1m Optimizer params: \u001b[0m\u001b[38;5;34m1,036\u001b[0m (4.05 KB)\n"
      ]
     },
     "metadata": {},
     "output_type": "display_data"
    }
   ],
   "source": [
    "modelANNKeras.summary()"
   ]
  },
  {
   "cell_type": "code",
   "execution_count": 113,
   "id": "3f1cf598-1b3c-4ed7-afe7-32940172b73e",
   "metadata": {},
   "outputs": [
    {
     "name": "stderr",
     "output_type": "stream",
     "text": [
      "WARNING:absl:Compiled the loaded model, but the compiled metrics have yet to be built. `model.compile_metrics` will be empty until you train or evaluate the model.\n"
     ]
    }
   ],
   "source": [
    "#Load the best model\n",
    "best_model = load_model('best_model.h5')"
   ]
  },
  {
   "cell_type": "code",
   "execution_count": 115,
   "id": "0cc16812-b61e-4665-91e3-4d608adebf75",
   "metadata": {},
   "outputs": [
    {
     "name": "stdout",
     "output_type": "stream",
     "text": [
      "\u001b[1m422/422\u001b[0m \u001b[32m━━━━━━━━━━━━━━━━━━━━\u001b[0m\u001b[37m\u001b[0m \u001b[1m2s\u001b[0m 3ms/step\n",
      "Predicted class labels: [4 4 3 4 4]\n"
     ]
    }
   ],
   "source": [
    "#make prediction - multi-class classification\n",
    "y_predANN = best_model.predict(X_test)\n",
    "y_pred_class = np.argmax(y_predANN, axis=1)\n",
    "\n",
    "print(\"Predicted class labels:\", y_pred_class[:5])"
   ]
  },
  {
   "cell_type": "code",
   "execution_count": 116,
   "id": "3e70f717-e654-46ec-8c20-8da991222982",
   "metadata": {},
   "outputs": [
    {
     "name": "stdout",
     "output_type": "stream",
     "text": [
      "\u001b[1m422/422\u001b[0m \u001b[32m━━━━━━━━━━━━━━━━━━━━\u001b[0m\u001b[37m\u001b[0m \u001b[1m2s\u001b[0m 4ms/step - accuracy: 0.7848 - loss: 0.5581\n",
      "Test Accuracy: 0.7861\n"
     ]
    }
   ],
   "source": [
    "#Evaluate model performance\n",
    "loss, accuracy = best_model.evaluate(X_test, y_test)\n",
    "print(f\"Test Accuracy: {accuracy:.4f}\")"
   ]
  },
  {
   "cell_type": "code",
   "execution_count": 122,
   "id": "7c9cb982-e6f6-4e9c-84db-152205d0c3d9",
   "metadata": {},
   "outputs": [
    {
     "data": {
      "text/plain": [
       "<sklearn.metrics._plot.confusion_matrix.ConfusionMatrixDisplay at 0x1e17666ab70>"
      ]
     },
     "execution_count": 122,
     "metadata": {},
     "output_type": "execute_result"
    },
    {
     "data": {
      "image/png": "[encoded data removed]",
      "text/plain": [
       "<Figure size 640x480 with 2 Axes>"
      ]
     },
     "metadata": {},
     "output_type": "display_data"
    }
   ],
   "source": [
    "cmann = confusion_matrix(y_test, y_pred_class)\n",
    "ConfusionMatrixDisplay(cmann).plot()"
   ]
  },
  {
   "cell_type": "code",
   "execution_count": 123,
   "id": "a8a05f83-732c-453b-a22e-9ce4f6db8fc7",
   "metadata": {},
   "outputs": [
    {
     "name": "stdout",
     "output_type": "stream",
     "text": [
      "              precision    recall  f1-score   support\n",
      "\n",
      "           0       0.92      0.79      0.85       409\n",
      "           1       0.72      0.64      0.68      1219\n",
      "           2       0.64      0.62      0.63      3043\n",
      "           3       0.88      0.76      0.82      3489\n",
      "           4       0.81      0.93      0.87      5325\n",
      "\n",
      "    accuracy                           0.79     13485\n",
      "   macro avg       0.80      0.75      0.77     13485\n",
      "weighted avg       0.79      0.79      0.78     13485\n",
      "\n"
     ]
    }
   ],
   "source": [
    "print(classification_report(y_test, y_pred_class))"
   ]
  },
  {
   "cell_type": "code",
   "execution_count": 127,
   "id": "7740c38a-4295-4225-86e3-f010d1a69a91",
   "metadata": {},
   "outputs": [
    {
     "name": "stdout",
     "output_type": "stream",
     "text": [
      "Accuracy: 0.7861\n",
      "Precision: 0.7870\n",
      "Recall: 0.7861\n",
      "F1 Score: 0.7833\n"
     ]
    }
   ],
   "source": [
    "precisionANN = precision_score(y_test, y_pred_class, average='weighted')\n",
    "recallANN = recall_score(y_test, y_pred_class, average='weighted')\n",
    "f1ANN = f1_score(y_test, y_pred_class, average='weighted')\n",
    "\n",
    "# Print the results\n",
    "print(f\"Accuracy: {accuracy:.4f}\")\n",
    "print(f\"Precision: {precisionANN:.4f}\")\n",
    "print(f\"Recall: {recallANN:.4f}\")\n",
    "print(f\"F1 Score: {f1ANN:.4f}\")"
   ]
  },
  {
   "cell_type": "code",
   "execution_count": 130,
   "id": "ea0016ff-ec1d-45f5-ad3b-a63f85c0eca7",
   "metadata": {},
   "outputs": [
    {
     "data": {
      "image/png": "[encoded data removed]",
      "text/plain": [
       "<Figure size 800x500 with 1 Axes>"
      ]
     },
     "metadata": {},
     "output_type": "display_data"
    }
   ],
   "source": [
    "df_pred = pd.DataFrame({'Actual': y_test, 'Predicted': y_pred_class})\n",
    "plt.figure(figsize=(8, 5))\n",
    "sn.countplot(x='Actual', data=df_pred, palette='viridis', alpha=0.7, label='Actual')\n",
    "sn.countplot(x='Predicted', data=df_pred, palette='magma', alpha=0.5, label='Predicted')\n",
    "plt.title('Distribution of Actual vs Predicted Classes')\n",
    "plt.legend()\n",
    "plt.show()"
   ]
  },
  {
   "cell_type": "code",
   "execution_count": 131,
   "id": "3c1a23ea-382c-4304-8b41-f71b09eaafc6",
   "metadata": {},
   "outputs": [
    {
     "data": {
      "image/png": "[encoded data removed]",
      "text/plain": [
       "<Figure size 640x480 with 1 Axes>"
      ]
     },
     "metadata": {},
     "output_type": "display_data"
    }
   ],
   "source": [
    "plt.scatter(y_test + np.random.uniform(-0.2, 0.2, size=len(y_test)),\n",
    "            y_pred_class + np.random.uniform(-0.2, 0.2, size=len(y_pred_class)),\n",
    "            alpha=0.5)\n",
    "plt.xlabel(\"Actual Class\")\n",
    "plt.ylabel(\"Predicted Class\")\n",
    "plt.title(\"Actual vs Predicted (with jitter)\")\n",
    "plt.grid(True)\n",
    "plt.show()"
   ]
  },
  {
   "cell_type": "code",
   "execution_count": null,
   "id": "a900ed85-36dd-4ae1-8bc0-d0ba1b0aab07",
   "metadata": {},
   "outputs": [],
   "source": []
  }
 ],
 "metadata": {
  "kernelspec": {
   "display_name": "Python 3 (ipykernel)",
   "language": "python",
   "name": "python3"
  },
  "language_info": {
   "codemirror_mode": {
    "name": "ipython",
    "version": 3
   },
   "file_extension": ".py",
   "mimetype": "text/x-python",
   "name": "python",
   "nbconvert_exporter": "python",
   "pygments_lexer": "ipython3",
   "version": "3.12.7"
  }
 },
 "nbformat": 4,
 "nbformat_minor": 5
}
